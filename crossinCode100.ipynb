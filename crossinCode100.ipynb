{
 "cells": [
  {
   "cell_type": "markdown",
   "metadata": {},
   "source": [
    "# 欢迎扫码关注本人微信公众号，一起成长，谢谢咯\n",
    "![title](./qrcode.jpg)\n"
   ]
  },
  {
   "cell_type": "code",
   "execution_count": null,
   "metadata": {},
   "outputs": [],
   "source": [
    "# Q001. Python Hello World 实例\n",
    "# 【问题】请使用 python3 输出 'Hello World!'\n",
    "print('Hello World')"
   ]
  },
  {
   "cell_type": "code",
   "execution_count": 10,
   "metadata": {},
   "outputs": [
    {
     "name": "stdout",
     "output_type": "stream",
     "text": [
      "one\n",
      "two\n",
      "three\n",
      "totally cost 0.0\n",
      "\n",
      "------\n",
      "one\n",
      "two\n",
      "three\n",
      "totally cost1 0.0009944438934326172\n"
     ]
    }
   ],
   "source": [
    "# Q002.【问题】按顺序输出列表 ['one', 'two', 'three'] 的值。\n",
    "import time \n",
    "time_start=time.time() \n",
    "for i in  ['one', 'two', 'three']:\n",
    "    print (i)\n",
    "time_end=time.time() \n",
    "print('totally cost',time_end-time_start)\n",
    "print('\\n------')\n",
    "\n",
    "\n",
    "\n",
    "time_start1=time.time() \n",
    "a =  ['one', 'two', 'three']\n",
    "for j in range(3):\n",
    "    print(a[j])\n",
    "time_end1=time.time() \n",
    "print('totally cost1',time_end1-time_start1)"
   ]
  },
  {
   "cell_type": "code",
   "execution_count": 21,
   "metadata": {},
   "outputs": [
    {
     "name": "stdout",
     "output_type": "stream",
     "text": [
      "three\n",
      "two\n",
      "one\n",
      "totally cost 0.9970703125\n",
      "\n",
      "------\n",
      "three\n",
      "two\n",
      "one\n",
      "totally cost 0.0\n",
      "\n",
      "------\n",
      "three\n",
      "two\n",
      "one\n",
      "totally cost 0.0\n"
     ]
    }
   ],
   "source": [
    "##  Q003【问题】按相反的顺序输出列表 ['one', 'two', 'three'] 的值。\n",
    "# 用reverse\n",
    "# 注意：q3a.reverse() 改变的是原始列表q3a，返回值为空\n",
    "import time \n",
    "time_start3=time.time() * 1000\n",
    "q3a=['one', 'two', 'three']\n",
    "q3a.reverse()\n",
    "for i in  q3a:\n",
    "    print (i)\n",
    "time_end3=time.time() * 1000\n",
    "print('totally cost',time_end3-time_start3)\n",
    "print('\\n------')\n",
    "\n",
    "# 用切片\n",
    "time_start3b=time.time() * 1000\n",
    "q3b=['one', 'two', 'three']\n",
    "q3br = q3b[::-1]\n",
    "for i in q3br:\n",
    "    print(i)\n",
    "time_end3b=time.time() * 1000\n",
    "print('totally cost',time_end3b-time_start3b)\n",
    "print('\\n------')\n",
    "\n",
    "# 用range()\n",
    "ts_3c =time.time() * 1000\n",
    "q3c=['one', 'two', 'three']\n",
    "for i in range(-1,-4,-1):\n",
    "    print(q3c[i])\n",
    "te_3c=time.time() * 1000\n",
    "print('totally cost',te_3c-ts_3c)"
   ]
  },
  {
   "cell_type": "code",
   "execution_count": 23,
   "metadata": {},
   "outputs": [
    {
     "name": "stdout",
     "output_type": "stream",
     "text": [
      "列表长度 3\n"
     ]
    }
   ],
   "source": [
    "## Q004 【问题】输出列表 ['one', 'two', 'three'] 的长度。\n",
    "q4l = ['one', 'two', 'three']\n",
    "\n",
    "print('列表长度 %s'%len(q4l))"
   ]
  },
  {
   "cell_type": "code",
   "execution_count": 4,
   "metadata": {},
   "outputs": [
    {
     "name": "stdout",
     "output_type": "stream",
     "text": [
      "字符串长度:24\n"
     ]
    }
   ],
   "source": [
    "## Q005【问题】计算'Welcome to Crossin的编程教室!'长度。\n",
    "print('字符串长度:%s'%len('Welcome to Crossin的编程教室!'))\n"
   ]
  },
  {
   "cell_type": "code",
   "execution_count": 7,
   "metadata": {},
   "outputs": [
    {
     "name": "stdout",
     "output_type": "stream",
     "text": [
      "请输入字符串ded\n",
      "输入的字符串长度:3\n"
     ]
    }
   ],
   "source": [
    "## Q006【问题】从控制台输入一段字符，并判断长度\n",
    "print('输入的字符串长度:%s'%len(input(\"请输入字符串\")))"
   ]
  },
  {
   "cell_type": "code",
   "execution_count": null,
   "metadata": {},
   "outputs": [],
   "source": [
    "### Q007 【问题】读取7个数（1—50）的整数值，每读取一个值，程序打印出该值个数的*。\n",
    "def getInput():\n",
    "    while 1:\n",
    "        try:\n",
    "            num = int(input('input a number:')) # 可以是多行代码\n",
    "            break\n",
    "        except:\n",
    "            continue\n",
    "    return num\n",
    "\n",
    "\n",
    "print(getInput())"
   ]
  },
  {
   "cell_type": "code",
   "execution_count": 1,
   "metadata": {},
   "outputs": [
    {
     "name": "stdout",
     "output_type": "stream",
     "text": [
      "*******************\n",
      "*************************************************\n",
      "**********\n",
      "*\n"
     ]
    }
   ],
   "source": [
    "## Q008【问题】按列表数据 [19,49,10,1],依次打印相同数量的 *\n",
    "list = [19,49,10,1]\n",
    "for i in list:\n",
    "    print(i*'*')"
   ]
  },
  {
   "cell_type": "code",
   "execution_count": 2,
   "metadata": {},
   "outputs": [
    {
     "name": "stdout",
     "output_type": "stream",
     "text": [
      "*\n",
      "**\n",
      "***\n",
      "****\n",
      "*****\n"
     ]
    }
   ],
   "source": [
    "## Q009\n",
    "'''\n",
    "【问题】请使用 * 打印出如下\n",
    "*\n",
    "**\n",
    "***\n",
    "****\n",
    "*****\n",
    "'''\n",
    "for i in range(5):\n",
    "    j = 0\n",
    "    while j <= i:\n",
    "        print(\"*\",end='')\n",
    "        j+=1\n",
    "    print(\"\")"
   ]
  },
  {
   "cell_type": "code",
   "execution_count": 3,
   "metadata": {},
   "outputs": [
    {
     "name": "stdout",
     "output_type": "stream",
     "text": [
      "* * * * * \n",
      " * * * * \n",
      "  * * * \n",
      "   * * \n",
      "    * \n"
     ]
    }
   ],
   "source": [
    "# Q010\n",
    "'''\n",
    "【问题】请使用 * 打印出如下\n",
    "* * * * *\n",
    " * * * *\n",
    "  * * *\n",
    "   * *\n",
    "    *\n",
    "'''\n",
    "for i in range(1,6):\n",
    "    for k in range(i-1):\n",
    "        print(end=\" \")\n",
    "    for j in range(6-i):\n",
    "        print(\"*\",end=\" \")\n",
    "    print()"
   ]
  },
  {
   "cell_type": "code",
   "execution_count": 4,
   "metadata": {
    "scrolled": true
   },
   "outputs": [
    {
     "name": "stdout",
     "output_type": "stream",
     "text": [
      "* * * * * \n",
      "*     * \n",
      "*   * \n",
      "* * \n",
      "* \n"
     ]
    }
   ],
   "source": [
    "# Q011\n",
    "'''\n",
    "\n",
    "【问题】请使用 * 打印出如下\n",
    "* * * * *\n",
    "*     *\n",
    "*   *\n",
    "* *\n",
    "*\n",
    "\n",
    "'''\n",
    "\n",
    "for i in range(1,6):\n",
    "    for j in range(i+1,7):\n",
    "        if j > 1+i and j <6 and i >1:\n",
    "            print(\" \" ,end=\" \")\n",
    "        else:\n",
    "            print(\"*\",end=\" \")\n",
    "    print()"
   ]
  },
  {
   "cell_type": "code",
   "execution_count": 5,
   "metadata": {},
   "outputs": [
    {
     "name": "stdout",
     "output_type": "stream",
     "text": [
      "integer:\n",
      "1\n",
      "integer:\n",
      "2\n",
      "integer:\n",
      "3\n",
      "[1, 2, 3]\n"
     ]
    }
   ],
   "source": [
    "# @012\n",
    "'''\n",
    "【问题】输入3个整数a,b,c，按大小顺序输出。\n",
    "'''\n",
    "list = []\n",
    "for i in range(3):\n",
    "    x = int(input('integer:\\n'))\n",
    "    list.append(x)\n",
    "list.sort()\n",
    "print(list)"
   ]
  },
  {
   "cell_type": "code",
   "execution_count": 6,
   "metadata": {},
   "outputs": [
    {
     "name": "stdout",
     "output_type": "stream",
     "text": [
      "请输入数字1\n",
      "请输入数字2\n",
      "请输入数字4\n",
      "请输入数字6\n",
      "[2, 4, 6]\n"
     ]
    }
   ],
   "source": [
    "'''\n",
    " Q013\n",
    "【问题】输入数字，判断是否为偶数，是则加入列表，列表满三个元素则程序退出\n",
    "'''\n",
    "\n",
    "list = []\n",
    "while True:\n",
    "    a = input('请输入数字')\n",
    "    if a.isdigit() and int(a) % 2 ==0:\n",
    "        list.append(int(a))\n",
    "        if len(list) >= 3:\n",
    "            print(list)\n",
    "            break "
   ]
  },
  {
   "cell_type": "code",
   "execution_count": 8,
   "metadata": {},
   "outputs": [
    {
     "name": "stdout",
     "output_type": "stream",
     "text": [
      "请输入数字3\n",
      "请输入数字4\n",
      "请输入数字6\n",
      "请输入数字7\n",
      "请输入数字8\n",
      "[4, 6, 8]\n"
     ]
    }
   ],
   "source": [
    "'''\n",
    "Q014\n",
    "【问题】输入整数，判断是否为偶数，是则加入列表，列表满三个元素则程序退出并按从小到大顺序输出。\n",
    "'''\n",
    "list = []\n",
    "while True:\n",
    "    a = input('请输入数字')\n",
    "    if a.isdigit() and int(a) % 2 ==0:\n",
    "        list.append(int(a))\n",
    "        if len(list) >= 3:\n",
    "            new_list = sorted(list)\n",
    "            print(new_list)\n",
    "            break "
   ]
  },
  {
   "cell_type": "code",
   "execution_count": 9,
   "metadata": {},
   "outputs": [
    {
     "name": "stdout",
     "output_type": "stream",
     "text": [
      "5050\n"
     ]
    }
   ],
   "source": [
    "'''\n",
    "Q15\n",
    "【问题】统计 1 到 100 之和。\n",
    "'''\n",
    "ret = 0\n",
    "for i in range(1,101):\n",
    "    ret += i\n",
    "print(ret)"
   ]
  },
  {
   "cell_type": "code",
   "execution_count": 10,
   "metadata": {},
   "outputs": [
    {
     "name": "stdout",
     "output_type": "stream",
     "text": [
      "2550\n"
     ]
    }
   ],
   "source": [
    "'''\n",
    "Q016\n",
    "【问题】统计 1 到 100 偶数之和。\n",
    "'''\n",
    "ret = 0\n",
    "for i in range(1,101):\n",
    "    if i % 2 == 0:\n",
    "        ret += i\n",
    "print( ret)"
   ]
  },
  {
   "cell_type": "code",
   "execution_count": 11,
   "metadata": {},
   "outputs": [
    {
     "name": "stdout",
     "output_type": "stream",
     "text": [
      "2500\n"
     ]
    }
   ],
   "source": [
    "'''\n",
    "Q017\n",
    "统计 1 到 100 奇数之和。\n",
    "'''\n",
    "ret = 0\n",
    "for i in range(1,101):\n",
    "    if i % 2 == 1:\n",
    "        ret += i\n",
    "print( ret)"
   ]
  },
  {
   "cell_type": "code",
   "execution_count": 12,
   "metadata": {},
   "outputs": [
    {
     "name": "stdout",
     "output_type": "stream",
     "text": [
      "1683\n"
     ]
    }
   ],
   "source": [
    "'''\n",
    "Q018\n",
    "统计 1 到 100 能被三整除数之和。\n",
    "'''\n",
    "ret = 0\n",
    "for i in range(1,101):\n",
    "    if i % 3 == 0:\n",
    "        ret += i\n",
    "print(ret)"
   ]
  },
  {
   "cell_type": "code",
   "execution_count": 13,
   "metadata": {},
   "outputs": [
    {
     "name": "stdout",
     "output_type": "stream",
     "text": [
      "5050.0\n"
     ]
    }
   ],
   "source": [
    "'''\n",
    "Q019\n",
    "【问题】利用高斯算法统计 1 到 100 之和\n",
    "以首项加末项乘以项数除以2用来计算“1+2+3+4+5+···+（n-1）+n”的结果。\n",
    "这样的算法被称为高斯算法。\n",
    "'''\n",
    "print((1+100) * 100 / 2)"
   ]
  },
  {
   "cell_type": "code",
   "execution_count": 16,
   "metadata": {},
   "outputs": [
    {
     "name": "stdout",
     "output_type": "stream",
     "text": [
      "请输入一个数字：5\n",
      "运算结果为: 25\n",
      "Bye, 运算结果小于50，退出\n"
     ]
    }
   ],
   "source": [
    "'''\n",
    "Q020\n",
    "【问题】输入数字，如果平方运算后小于 50 则退出。\n",
    "'''\n",
    "while True:\n",
    "    num = int(input('请输入一个数字：'))\n",
    "    print('运算结果为: %d' % (num * num)) \n",
    "    if num * num <= 50:\n",
    "        print('Bye, 运算结果小于50，退出')\n",
    "        break"
   ]
  },
  {
   "cell_type": "code",
   "execution_count": 19,
   "metadata": {},
   "outputs": [
    {
     "name": "stdout",
     "output_type": "stream",
     "text": [
      "请输入7及位以上数字:\n",
      "431421467\n",
      "输入 431421467，\t输出 1421。\n"
     ]
    }
   ],
   "source": [
    "'''\n",
    "Q021\n",
    "【问题】取一个整数a从右端开始的4〜7位，如 431421467，输出 1421。\n",
    "'''\n",
    "a = input('请输入7及位以上数字:\\n')\n",
    "if a.isdigit() and len(a) >= 4:\n",
    "    print('输入 %s，\\t输出 %s。' %(a,a[-7:-3]))"
   ]
  },
  {
   "cell_type": "code",
   "execution_count": 20,
   "metadata": {},
   "outputs": [
    {
     "name": "stdout",
     "output_type": "stream",
     "text": [
      "look\n"
     ]
    }
   ],
   "source": [
    "'''\n",
    "Q022\n",
    "【问题】print('look') 暂停一秒输出。 \n",
    "'''\n",
    "import time\n",
    "if __name__ == '__main__':\n",
    "    time.sleep(1)\n",
    "    print('look')\n",
    "    "
   ]
  },
  {
   "cell_type": "code",
   "execution_count": 22,
   "metadata": {},
   "outputs": [
    {
     "name": "stdout",
     "output_type": "stream",
     "text": [
      "请输入任意字符abbcd\n",
      "字符 abbcd 中含 2 个 \"b\".\n"
     ]
    }
   ],
   "source": [
    "'''\n",
    "Q023\n",
    "【问题】从控制台输入一段字符，统计字符'b'出现次数\n",
    "'''\n",
    "str = input('请输入任意字符')\n",
    "count = 0\n",
    "for i in str:\n",
    "    if 'b' == i:\n",
    "        count += 1\n",
    "print('字符 %s 中含 %d 个 \"b\".' % (str, count))"
   ]
  },
  {
   "cell_type": "code",
   "execution_count": 23,
   "metadata": {},
   "outputs": [
    {
     "name": "stdout",
     "output_type": "stream",
     "text": [
      "输入一段字符\n",
      "cross\n",
      "字符：c, 出现次数：1。\n",
      "字符：r, 出现次数：1。\n",
      "字符：o, 出现次数：1。\n",
      "字符：s, 出现次数：2。\n"
     ]
    }
   ],
   "source": [
    "'''\n",
    "Q024\n",
    "【问题】从控制台输入一段字符，统计各字符出现次数\n",
    "\n",
    "参考示例：\n",
    "\n",
    "输入：\n",
    "\n",
    "Cross\n",
    "\n",
    "输出：\n",
    "\n",
    "字符：C, 出现次数：1。\n",
    "\n",
    "字符：r, 出现次数：1。\n",
    "\n",
    "字符：o, 出现次数：1。\n",
    "\n",
    "字符：s, 出现次数：2。\n",
    "'''\n",
    "if __name__ == '__main__':\n",
    "    a = input('输入一段字符\\n')\n",
    "    z = {}\n",
    "    for i in a:\n",
    "        # dict方法，没拿到值，就返回默认值0\n",
    "        z[i] = z.get(i, 0) + 1\n",
    "    for i in z:\n",
    "        print('字符：%s, 出现次数：%s。' % (i, z[i]))"
   ]
  },
  {
   "cell_type": "code",
   "execution_count": 25,
   "metadata": {},
   "outputs": [
    {
     "name": "stdout",
     "output_type": "stream",
     "text": [
      "请输入一个数字: 1\n",
      "1 不是质数/素数\n"
     ]
    }
   ],
   "source": [
    "'''\n",
    "Q025\n",
    "【问题】判断输入数字是否为质数\n",
    "【分析】一个大于1的自然数，除了1和它本身外，不能被其他自然数（质数）整除（2, 3, 5, 7等），换句话说就是该数除了1和它本身以外不再有其他的因数.\n",
    "'''\n",
    "\n",
    "import math\n",
    "num = int(input(\"请输入一个数字: \"))\n",
    "# 质数大于 1 ，且只能被1和他自己整除\n",
    "if num > 1:\n",
    "    for i in range(2, int(math.sqrt(num))+1):\n",
    "        if (num % i) == 0:\n",
    "            print(num, \"不是质数/素数\")\n",
    "            break\n",
    "    else:\n",
    "        print(num, \"是质数/素数\")\n",
    "else:\n",
    "    print(num, \"不是质数/素数\")"
   ]
  },
  {
   "cell_type": "code",
   "execution_count": 26,
   "metadata": {},
   "outputs": [
    {
     "name": "stdout",
     "output_type": "stream",
     "text": [
      "1060\n"
     ]
    }
   ],
   "source": [
    "'''\n",
    "Q026\n",
    "【问题】统计1 到 100 内质数之和\n",
    "'''\n",
    "\n",
    "import math\n",
    "def is_prime(num):\n",
    "    if num > 1:\n",
    "        for i in range(2, int(math.sqrt(num)) + 1):\n",
    "            if (num % i) == 0:\n",
    "                return False\n",
    "                # break\n",
    "        else:\n",
    "            return True\n",
    "    else:\n",
    "        return False\n",
    "\n",
    "\n",
    "\n",
    "if __name__ == '__main__':\n",
    "    sum1 = 0\n",
    "    for i in range(1, 101):\n",
    "        if is_prime(i):\n",
    "            sum1 += i\n",
    "    print(sum1)"
   ]
  },
  {
   "cell_type": "code",
   "execution_count": 1,
   "metadata": {},
   "outputs": [
    {
     "name": "stdout",
     "output_type": "stream",
     "text": [
      "请输入一个年份，让我判断一下是不是闰年： a\n",
      "格式错误\n",
      "请输入一个年份，让我判断一下是不是闰年： 32\n",
      "32是闰年\n"
     ]
    }
   ],
   "source": [
    "'''\n",
    "Q027\n",
    "【问题】判断闰年\n",
    "【分析】百年除以400，非百年除以4，能除尽则为闰年\n",
    "'''\n",
    "# 没有重复造轮子，就用了这个。-_-!!!\n",
    "import calendar\n",
    "\n",
    "\n",
    "def get_year():\n",
    "    while True:\n",
    "        year = input(\"请输入一个年份，让我判断一下是不是闰年： \")\n",
    "        if year.isdigit():\n",
    "            return int(year)\n",
    "        else:\n",
    "            print('格式错误')\n",
    "\n",
    "if __name__ == '__main__':\n",
    "    year = get_year()\n",
    "    check_year = calendar.isleap(int(year))\n",
    "    if check_year:\n",
    "        print('{0}是闰年'.format(year))\n",
    "    else:\n",
    "        print('{0}不是闰年'.format(year))\n"
   ]
  },
  {
   "cell_type": "code",
   "execution_count": 2,
   "metadata": {},
   "outputs": [
    {
     "name": "stdout",
     "output_type": "stream",
     "text": [
      "输入一个年份: 120\n",
      "120 是闰年\n"
     ]
    }
   ],
   "source": [
    "year = int(input(\"输入一个年份: \"))\n",
    "if (year % 4) == 0:\n",
    "    if (year % 100) == 0:\n",
    "        if (year % 400) == 0:\n",
    "            print(\"{0} 是闰年\".format(year))   # 整百年能被400整除的是闰年\n",
    "        else:\n",
    "            print(\"{0} 不是闰年\".format(year))\n",
    "    else:\n",
    "        print(\"{0} 是闰年\".format(year))       # 非整百年能被4整除的为闰年\n",
    "else:\n",
    "    print(\"{0} 不是闰年\".format(year))"
   ]
  },
  {
   "cell_type": "code",
   "execution_count": null,
   "metadata": {},
   "outputs": [],
   "source": []
  }
 ],
 "metadata": {
  "kernelspec": {
   "display_name": "Python 3",
   "language": "python",
   "name": "python3"
  },
  "language_info": {
   "codemirror_mode": {
    "name": "ipython",
    "version": 3
   },
   "file_extension": ".py",
   "mimetype": "text/x-python",
   "name": "python",
   "nbconvert_exporter": "python",
   "pygments_lexer": "ipython3",
   "version": "3.6.4"
  }
 },
 "nbformat": 4,
 "nbformat_minor": 2
}
