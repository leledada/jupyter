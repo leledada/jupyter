{
 "cells": [
  {
   "cell_type": "markdown",
   "metadata": {},
   "source": [
    "## using List Comprehension to Find top Earners\n"
   ]
  },
  {
   "cell_type": "code",
   "execution_count": 4,
   "metadata": {},
   "outputs": [],
   "source": [
    "employees = {'Alice':100000,'Bob':99817,'Carol':122908,\"Frank\":88123,'Eve':93121}\n",
    "top_earners = []\n",
    "for key,val in employees.items():\n",
    "    if val >= 100000:\n",
    "        top_earners.append((key,val))\n"
   ]
  },
  {
   "cell_type": "code",
   "execution_count": 5,
   "metadata": {},
   "outputs": [
    {
     "data": {
      "text/plain": [
       "[('Alice', 100000), ('Carol', 122908)]"
      ]
     },
     "execution_count": 5,
     "metadata": {},
     "output_type": "execute_result"
    }
   ],
   "source": [
    "top_earners"
   ]
  },
  {
   "cell_type": "code",
   "execution_count": 6,
   "metadata": {},
   "outputs": [
    {
     "data": {
      "text/plain": [
       "[('Alice', 100000), ('Carol', 122908)]"
      ]
     },
     "execution_count": 6,
     "metadata": {},
     "output_type": "execute_result"
    }
   ],
   "source": [
    "'''\n",
    "Expression : Creates a simple (key,value) tuple for context variable k iterates\n",
    "'''\n",
    "## One-Liner\n",
    "top_earners1 = [(k,v) for k,v in employees.items() if v>=100000]\n",
    "top_earners1"
   ]
  },
  {
   "cell_type": "code",
   "execution_count": 17,
   "metadata": {},
   "outputs": [
    {
     "data": {
      "text/plain": [
       "[['Call',\n",
       "  'Ishmael.Some',\n",
       "  'years',\n",
       "  'never',\n",
       "  'mind',\n",
       "  'long',\n",
       "  'precisely',\n",
       "  '-having'],\n",
       " ['little', 'money', 'purse,', 'nothing', 'particular', 'interest'],\n",
       " ['shore,', 'thought', 'would', 'sail', 'about', 'little', 'watery', 'part'],\n",
       " ['world.', 'have', 'driving', 'spleen,', 'regulating'],\n",
       " ['circulation.', 'Moby', 'Dick']]"
      ]
     },
     "execution_count": 17,
     "metadata": {},
     "output_type": "execute_result"
    }
   ],
   "source": [
    "\n",
    "text='''Call me Ishmael.Some years age - never mind how long precisely -having\n",
    "little or no money in my purse, and nothing particular to interest me \n",
    "on shore, I thought I would sail about a little and see the watery part\n",
    "of the world. It is a way I have of driving off the spleen, and regulating \n",
    "the circulation. - Moby Dick '''\n",
    "w = [[x for x in line.split() if len(x)>3] for line in text.split('\\n')]\n",
    "# for line in text.split('\\n'):\n",
    "#     print(line)\n",
    "w"
   ]
  },
  {
   "cell_type": "markdown",
   "metadata": {},
   "source": [
    "## Using Lambda and Map Functions"
   ]
  },
  {
   "cell_type": "code",
   "execution_count": 12,
   "metadata": {},
   "outputs": [
    {
     "name": "stdout",
     "output_type": "stream",
     "text": [
      "<map object at 0x000001486A50A160>\n",
      "[(True, 'lambda functions are anonymous functions.'), (True, 'anonymous functions dont have a name'), (False, 'functions are objects in Python')]\n"
     ]
    }
   ],
   "source": [
    "'''\n",
    "mark strings that contain the string 'anonymous'\n",
    "\n",
    "lambdas:\n",
    "lambda arguments : return expression\n",
    "'''\n",
    "\n",
    "txt =['lambda functions are anonymous functions.',\n",
    "      'anonymous functions dont have a name',\n",
    "      'functions are objects in Python']\n",
    "mark = map(lambda s:(True,s) if 'anonymous' in s else (False,s),txt)\n",
    "print(mark)\n",
    "print(list(mark))"
   ]
  },
  {
   "cell_type": "code",
   "execution_count": 11,
   "metadata": {},
   "outputs": [
    {
     "name": "stdout",
     "output_type": "stream",
     "text": [
      "ngine, \n",
      "Amazon Aurora, a fully-manag\n"
     ]
    }
   ],
   "source": [
    "letters_amazon = '''\n",
    "We spent several years building our own database engine, \n",
    "Amazon Aurora, a fully-managed MySQL and PostgreSQL-compatible service \n",
    "with the same or better durability and availability as the commercial engines, but at one-tenth of the cost. \n",
    "'''\n",
    "find1 = lambda x,q:x[(0 if letters_amazon.find(q)-18 < 0 else letters_amazon.find(q)-18): x.find(q)+18] if q in x else -1\n",
    "print(find1(letters_amazon,'or'))"
   ]
  },
  {
   "cell_type": "code",
   "execution_count": 6,
   "metadata": {},
   "outputs": [
    {
     "name": "stdout",
     "output_type": "stream",
     "text": [
      ", a fully-managed MySQL and PostgreS\n"
     ]
    }
   ],
   "source": [
    "find1 = lambda x,q:x[x.find(q)-18: x.find(q)+18] if q in x else -1\n",
    "print(find1(letters_amazon,'My'))"
   ]
  },
  {
   "cell_type": "code",
   "execution_count": 39,
   "metadata": {},
   "outputs": [
    {
     "data": {
      "text/plain": [
       "0"
      ]
     },
     "execution_count": 39,
     "metadata": {},
     "output_type": "execute_result"
    }
   ],
   "source": [
    "'''\n",
    "https://www.cnblogs.com/wuaihua/p/9213118.html\n",
    "python的三元表达式\n",
    "'''\n",
    "0 if letters_amazon.find('w')-18 < 0 else letters_amazon.find('w')-18\n",
    "    \n"
   ]
  },
  {
   "cell_type": "code",
   "execution_count": 41,
   "metadata": {},
   "outputs": [
    {
     "data": {
      "text/plain": [
       "'ame or better...\\n'"
      ]
     },
     "execution_count": 41,
     "metadata": {},
     "output_type": "execute_result"
    }
   ],
   "source": [
    "letters_amazon[-17:]"
   ]
  },
  {
   "cell_type": "markdown",
   "metadata": {},
   "source": [
    "## combining List Comprehension and slicing"
   ]
  },
  {
   "cell_type": "code",
   "execution_count": 53,
   "metadata": {},
   "outputs": [
    {
     "name": "stdout",
     "output_type": "stream",
     "text": [
      "[[9.9, 9.7, 9.5], [9.5, 9.3, 9.1], [8.4, 7.4, 8.2], [7.1, 4.4, 4.2]]\n"
     ]
    }
   ],
   "source": [
    "price = [[9.9, 9.8, 9.7, 9.6, 9.5, 9.4],\n",
    "         [9.5, 9.4, 9.3, 9.2, 9.1, 9.0],\n",
    "         [8.4, 7.9, 7.4, 7.3, 8.2, 8.1],\n",
    "         [7.1, 5.4, 4.4, 4.3, 4.2, 3.1]\n",
    "        ]\n",
    "# 全部都取，步长为2\n",
    "sample = [line[::2] for line in price]\n",
    "print(sample)"
   ]
  },
  {
   "cell_type": "code",
   "execution_count": 54,
   "metadata": {},
   "outputs": [
    {
     "name": "stdout",
     "output_type": "stream",
     "text": [
      "[9.9, 9.8, 9.7, 9.6, 9.5, 9.4]\n",
      "[9.5, 9.4, 9.3, 9.2, 9.1, 9.0]\n",
      "[8.4, 7.9, 7.4, 7.3, 8.2, 8.1]\n",
      "[7.1, 5.4, 4.4, 4.3, 4.2, 3.1]\n"
     ]
    }
   ],
   "source": [
    "for line in price:\n",
    "    print(line)"
   ]
  },
  {
   "cell_type": "code",
   "execution_count": 55,
   "metadata": {},
   "outputs": [
    {
     "data": {
      "text/plain": [
       "[9.5, 9.4, 9.3, 9.2, 9.1, 9.0]"
      ]
     },
     "execution_count": 55,
     "metadata": {},
     "output_type": "execute_result"
    }
   ],
   "source": [
    "list1 = price[1]\n",
    "list1"
   ]
  },
  {
   "cell_type": "code",
   "execution_count": 56,
   "metadata": {},
   "outputs": [
    {
     "data": {
      "text/plain": [
       "[9.4, 9.2, 9.0]"
      ]
     },
     "execution_count": 56,
     "metadata": {},
     "output_type": "execute_result"
    }
   ],
   "source": [
    "list1[1::2]"
   ]
  },
  {
   "cell_type": "code",
   "execution_count": 66,
   "metadata": {},
   "outputs": [],
   "source": [
    "visitors = ['Firefox','corrupted','chrome','corrupted','Safari','corrupted']\n",
    "# visitors[1::2]=visitors[::2]"
   ]
  },
  {
   "cell_type": "code",
   "execution_count": 67,
   "metadata": {},
   "outputs": [
    {
     "data": {
      "text/plain": [
       "['Firefox', 'corrupted', 'chrome', 'corrupted', 'Safari', 'corrupted']"
      ]
     },
     "execution_count": 67,
     "metadata": {},
     "output_type": "execute_result"
    }
   ],
   "source": [
    "visitors"
   ]
  },
  {
   "cell_type": "code",
   "execution_count": 68,
   "metadata": {},
   "outputs": [
    {
     "data": {
      "text/plain": [
       "['corrupted', 'corrupted', 'corrupted']"
      ]
     },
     "execution_count": 68,
     "metadata": {},
     "output_type": "execute_result"
    }
   ],
   "source": [
    "visitors[1::2]"
   ]
  },
  {
   "cell_type": "code",
   "execution_count": 69,
   "metadata": {},
   "outputs": [
    {
     "data": {
      "text/plain": [
       "['Firefox', 'chrome', 'Safari']"
      ]
     },
     "execution_count": 69,
     "metadata": {},
     "output_type": "execute_result"
    }
   ],
   "source": [
    "visitors[::2]"
   ]
  },
  {
   "cell_type": "code",
   "execution_count": 70,
   "metadata": {},
   "outputs": [],
   "source": [
    "visitors[1::2]=visitors[::2]"
   ]
  },
  {
   "cell_type": "code",
   "execution_count": 71,
   "metadata": {},
   "outputs": [
    {
     "data": {
      "text/plain": [
       "['Firefox', 'Firefox', 'chrome', 'chrome', 'Safari', 'Safari']"
      ]
     },
     "execution_count": 71,
     "metadata": {},
     "output_type": "execute_result"
    }
   ],
   "source": [
    "visitors"
   ]
  },
  {
   "cell_type": "markdown",
   "metadata": {},
   "source": [
    "## analyzing Cardiac Health Data with List Concatenation"
   ]
  },
  {
   "cell_type": "code",
   "execution_count": 73,
   "metadata": {},
   "outputs": [
    {
     "data": {
      "image/png": "[encoded data removed]",
      "text/plain": [
       "<matplotlib.figure.Figure at 0x1eddcebc668>"
      ]
     },
     "metadata": {},
     "output_type": "display_data"
    }
   ],
   "source": [
    "import matplotlib.pyplot as plt\n",
    "cardiac_cycle = [62,60,62,64,68,77,80,76,71,66,61,60,62]\n",
    "\n",
    "expected_cycles = cardiac_cycle[1:-2]*10\n",
    "\n",
    "plt.plot(expected_cycles)\n",
    "plt.show()"
   ]
  },
  {
   "cell_type": "code",
   "execution_count": 74,
   "metadata": {},
   "outputs": [
    {
     "data": {
      "text/plain": [
       "[60, 62, 64, 68, 77, 80, 76, 71, 66, 61]"
      ]
     },
     "execution_count": 74,
     "metadata": {},
     "output_type": "execute_result"
    }
   ],
   "source": [
    "cardiac_cycle[1:-2]"
   ]
  },
  {
   "cell_type": "markdown",
   "metadata": {},
   "source": [
    "### Using Generator Expressions to Find Companies That Pay Below Minimum Wage"
   ]
  },
  {
   "cell_type": "code",
   "execution_count": 75,
   "metadata": {},
   "outputs": [
    {
     "data": {
      "text/plain": [
       "2470"
      ]
     },
     "execution_count": 75,
     "metadata": {},
     "output_type": "execute_result"
    }
   ],
   "source": [
    "sum([x*x for x in range(20)])"
   ]
  },
  {
   "cell_type": "code",
   "execution_count": 76,
   "metadata": {},
   "outputs": [
    {
     "data": {
      "text/plain": [
       "2470"
      ]
     },
     "execution_count": 76,
     "metadata": {},
     "output_type": "execute_result"
    }
   ],
   "source": [
    "sum(x*x for x in range(20))"
   ]
  },
  {
   "cell_type": "code",
   "execution_count": 77,
   "metadata": {},
   "outputs": [
    {
     "name": "stdout",
     "output_type": "stream",
     "text": [
      "['cheapCompany', 'sosoCompany']\n"
     ]
    }
   ],
   "source": [
    "# any() 函数用于判断给定的可迭代参数 iterable 是否全部为 False，则返回 False，如果有一个为 True，则返回 True。\n",
    "\n",
    "companies = {\n",
    "'coolCompany':{'Alice':33, 'Bob':28, 'Frank':29},\n",
    "'cheapCompany':{'Ann':4,'Lee':9,'Chrisi':7},\n",
    "'sosoCompany':{'Esther':38,'Cole':8,'Paris':18}\n",
    "}\n",
    "\n",
    "illegal = [x for x in companies if any(y<9 for y in companies[x].values() )]\n",
    "\n",
    "print(illegal)"
   ]
  },
  {
   "cell_type": "code",
   "execution_count": 78,
   "metadata": {},
   "outputs": [
    {
     "name": "stdout",
     "output_type": "stream",
     "text": [
      "coolCompany\n",
      "cheapCompany\n",
      "sosoCompany\n"
     ]
    }
   ],
   "source": [
    "for x in companies:\n",
    "    print(x)"
   ]
  },
  {
   "cell_type": "code",
   "execution_count": 79,
   "metadata": {},
   "outputs": [
    {
     "name": "stdout",
     "output_type": "stream",
     "text": [
      "33\n",
      "28\n",
      "29\n"
     ]
    }
   ],
   "source": [
    "for y in companies['coolCompany'].values():\n",
    "    print(y)"
   ]
  },
  {
   "cell_type": "markdown",
   "metadata": {},
   "source": [
    "### Formatting DataBases with the Zip() Function\n",
    "\n"
   ]
  },
  {
   "cell_type": "code",
   "execution_count": 80,
   "metadata": {},
   "outputs": [
    {
     "name": "stdout",
     "output_type": "stream",
     "text": [
      "[(1, 4), (2, 5), (3, 6)]\n"
     ]
    }
   ],
   "source": [
    "# zip two lists together\n",
    "lst_1 = [1,2,3]\n",
    "lst_2 = [4,5,6]\n",
    "lst_z = list(zip(lst_1,lst_2))\n",
    "print(lst_z)"
   ]
  },
  {
   "cell_type": "code",
   "execution_count": 83,
   "metadata": {},
   "outputs": [
    {
     "name": "stdout",
     "output_type": "stream",
     "text": [
      "[1, 2, 3]\n",
      "[4, 5, 6]\n"
     ]
    }
   ],
   "source": [
    "# unzip to list angain\n",
    "lst_1_new , lst_2_new = zip(*lst_z)\n",
    "print(list(lst_1_new))\n",
    "print(list(lst_2_new))"
   ]
  },
  {
   "cell_type": "code",
   "execution_count": 84,
   "metadata": {},
   "outputs": [
    {
     "name": "stdout",
     "output_type": "stream",
     "text": [
      "[{'names': 'Alice', 'salary': 180000, 'job': 'data scientist'}, {'names': 'Bob', 'salary': 99000, 'job': 'mid-level manager'}, {'names': 'Frank', 'salary': 87000, 'job': 'CEO'}]\n"
     ]
    }
   ],
   "source": [
    "column_names = ['names','salary','job']\n",
    "dbrows =[('Alice',180000,'data scientist'),\n",
    "('Bob',99000,'mid-level manager'),\n",
    "('Frank',87000,'CEO')]\n",
    "\n",
    "db = [dict(zip(column_names,row)) for row in dbrows]\n",
    "\n",
    "print(db)"
   ]
  },
  {
   "cell_type": "code",
   "execution_count": 85,
   "metadata": {},
   "outputs": [
    {
     "name": "stdout",
     "output_type": "stream",
     "text": [
      "('Alice', 180000, 'data scientist')\n",
      "('Bob', 99000, 'mid-level manager')\n",
      "('Frank', 87000, 'CEO')\n"
     ]
    }
   ],
   "source": [
    "for row in dbrows:\n",
    "    print(row)"
   ]
  },
  {
   "cell_type": "code",
   "execution_count": 88,
   "metadata": {},
   "outputs": [
    {
     "name": "stdout",
     "output_type": "stream",
     "text": [
      "<zip object at 0x000001EDDCFE1A08>\n",
      "{'names': 'Alice', 'salary': 180000, 'job': 'data scientist'}\n",
      "[('names', 'Alice'), ('salary', 180000), ('job', 'data scientist')]\n"
     ]
    }
   ],
   "source": [
    "'''The zip() function doesn't care that one input is a list and other is a tuple. \n",
    "The function requires only that the input is an iterable \n",
    "( Both lists and tuples are iterables)'''\n",
    "\n",
    "a = ['names','salary','job']\n",
    "b = ('Alice', 180000, 'data scientist')\n",
    "print(zip(a,b))\n",
    "print(dict(zip(a,b)))\n",
    "print(list(zip(a,b)))"
   ]
  },
  {
   "cell_type": "code",
   "execution_count": null,
   "metadata": {},
   "outputs": [],
   "source": []
  }
 ],
 "metadata": {
  "kernelspec": {
   "display_name": "Python 3",
   "language": "python",
   "name": "python3"
  },
  "language_info": {
   "codemirror_mode": {
    "name": "ipython",
    "version": 3
   },
   "file_extension": ".py",
   "mimetype": "text/x-python",
   "name": "python",
   "nbconvert_exporter": "python",
   "pygments_lexer": "ipython3",
   "version": "3.6.4"
  }
 },
 "nbformat": 4,
 "nbformat_minor": 2
}
