{
 "cells": [
  {
   "cell_type": "code",
   "execution_count": 1,
   "metadata": {},
   "outputs": [
    {
     "name": "stdout",
     "output_type": "stream",
     "text": [
      "Hello World\n"
     ]
    }
   ],
   "source": [
    "# Q001. Python Hello World 实例\n",
    "# 【问题】请使用 python3 输出 'Hello World!'\n",
    "print('Hello World')"
   ]
  },
  {
   "cell_type": "code",
   "execution_count": 10,
   "metadata": {},
   "outputs": [
    {
     "name": "stdout",
     "output_type": "stream",
     "text": [
      "one\n",
      "two\n",
      "three\n",
      "totally cost 0.0\n",
      "\n",
      "------\n",
      "one\n",
      "two\n",
      "three\n",
      "totally cost1 0.0009944438934326172\n"
     ]
    }
   ],
   "source": [
    "# Q002.【问题】按顺序输出列表 ['one', 'two', 'three'] 的值。\n",
    "import time \n",
    "time_start=time.time() \n",
    "for i in  ['one', 'two', 'three']:\n",
    "    print (i)\n",
    "time_end=time.time() \n",
    "print('totally cost',time_end-time_start)\n",
    "print('\\n------')\n",
    "\n",
    "\n",
    "\n",
    "time_start1=time.time() \n",
    "a =  ['one', 'two', 'three']\n",
    "for j in range(3):\n",
    "    print(a[j])\n",
    "time_end1=time.time() \n",
    "print('totally cost1',time_end1-time_start1)"
   ]
  },
  {
   "cell_type": "code",
   "execution_count": 21,
   "metadata": {},
   "outputs": [
    {
     "name": "stdout",
     "output_type": "stream",
     "text": [
      "three\n",
      "two\n",
      "one\n",
      "totally cost 0.9970703125\n",
      "\n",
      "------\n",
      "three\n",
      "two\n",
      "one\n",
      "totally cost 0.0\n",
      "\n",
      "------\n",
      "three\n",
      "two\n",
      "one\n",
      "totally cost 0.0\n"
     ]
    }
   ],
   "source": [
    "##  Q003【问题】按相反的顺序输出列表 ['one', 'two', 'three'] 的值。\n",
    "# 用reverse\n",
    "# 注意：q3a.reverse() 改变的是原始列表q3a，返回值为空\n",
    "import time \n",
    "time_start3=time.time() * 1000\n",
    "q3a=['one', 'two', 'three']\n",
    "q3a.reverse()\n",
    "for i in  q3a:\n",
    "    print (i)\n",
    "time_end3=time.time() * 1000\n",
    "print('totally cost',time_end3-time_start3)\n",
    "print('\\n------')\n",
    "\n",
    "# 用切片\n",
    "time_start3b=time.time() * 1000\n",
    "q3b=['one', 'two', 'three']\n",
    "q3br = q3b[::-1]\n",
    "for i in q3br:\n",
    "    print(i)\n",
    "time_end3b=time.time() * 1000\n",
    "print('totally cost',time_end3b-time_start3b)\n",
    "print('\\n------')\n",
    "\n",
    "# 用range()\n",
    "ts_3c =time.time() * 1000\n",
    "q3c=['one', 'two', 'three']\n",
    "for i in range(-1,-4,-1):\n",
    "    print(q3c[i])\n",
    "te_3c=time.time() * 1000\n",
    "print('totally cost',te_3c-ts_3c)"
   ]
  },
  {
   "cell_type": "code",
   "execution_count": 23,
   "metadata": {},
   "outputs": [
    {
     "name": "stdout",
     "output_type": "stream",
     "text": [
      "列表长度 3\n"
     ]
    }
   ],
   "source": [
    "## Q004 【问题】输出列表 ['one', 'two', 'three'] 的长度。\n",
    "q4l = ['one', 'two', 'three']\n",
    "\n",
    "print('列表长度 %s'%len(q4l))"
   ]
  },
  {
   "cell_type": "code",
   "execution_count": 4,
   "metadata": {},
   "outputs": [
    {
     "name": "stdout",
     "output_type": "stream",
     "text": [
      "字符串长度:24\n"
     ]
    }
   ],
   "source": [
    "## Q005【问题】计算'Welcome to Crossin的编程教室!'长度。\n",
    "print('字符串长度:%s'%len('Welcome to Crossin的编程教室!'))\n"
   ]
  },
  {
   "cell_type": "code",
   "execution_count": 7,
   "metadata": {},
   "outputs": [
    {
     "name": "stdout",
     "output_type": "stream",
     "text": [
      "请输入字符串ded\n",
      "输入的字符串长度:3\n"
     ]
    }
   ],
   "source": [
    "## Q006【问题】从控制台输入一段字符，并判断长度\n",
    "print('输入的字符串长度:%s'%len(input(\"请输入字符串\")))"
   ]
  },
  {
   "cell_type": "code",
   "execution_count": null,
   "metadata": {},
   "outputs": [],
   "source": [
    "### Q007 【问题】读取7个数（1—50）的整数值，每读取一个值，程序打印出该值个数的*。\n",
    "def getInput():\n",
    "    while 1:\n",
    "        try:\n",
    "            num = int(input('input a number:')) # 可以是多行代码\n",
    "            break\n",
    "        except:\n",
    "            continue\n",
    "    return num\n",
    "\n",
    "\n",
    "print(getInput())"
   ]
  },
  {
   "cell_type": "code",
   "execution_count": null,
   "metadata": {},
   "outputs": [],
   "source": []
  }
 ],
 "metadata": {
  "kernelspec": {
   "display_name": "Python 3",
   "language": "python",
   "name": "python3"
  },
  "language_info": {
   "codemirror_mode": {
    "name": "ipython",
    "version": 3
   },
   "file_extension": ".py",
   "mimetype": "text/x-python",
   "name": "python",
   "nbconvert_exporter": "python",
   "pygments_lexer": "ipython3",
   "version": "3.6.4"
  }
 },
 "nbformat": 4,
 "nbformat_minor": 2
}
