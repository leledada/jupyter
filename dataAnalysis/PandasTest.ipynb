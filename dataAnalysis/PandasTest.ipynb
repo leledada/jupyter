{
 "cells": [
  {
   "cell_type": "markdown",
   "metadata": {},
   "source": [
    "# 欢迎扫码关注本人微信公众号，一起成长，谢谢咯\n",
    "![title](./qrcode.jpg)"
   ]
  },
  {
   "cell_type": "code",
   "execution_count": 9,
   "metadata": {},
   "outputs": [
    {
     "name": "stdout",
     "output_type": "stream",
     "text": [
      "0    2\n",
      "1    3\n",
      "2    4\n",
      "3    5\n",
      "dtype: int64\n",
      "a    1\n",
      "b    2\n",
      "c    3\n",
      "d    4\n",
      "dtype: int64\n"
     ]
    }
   ],
   "source": [
    "'''\n",
    "Pandas 可以说是基于 NumPy 构建的含有更高级数据结构和分析能力的工具包。\n",
    "在 NumPy 中数据结构是围绕 ndarray 展开的。\n",
    "在 Pandas 中的核心数据结构是 Series 和 DataFrame 。\n",
    "\n",
    "Series 是个定长的字典序列。\n",
    "Series 有两个基本属性：index 和 values。\n",
    "在 Series 结构中，index 默认是 0,1,2,……递增的整数序列，\n",
    "也可以指定索引，比如 index=[‘a’, ‘b’, ‘c’, ‘d’]。\n",
    "\n",
    "'''\n",
    "\n",
    "import pandas as pd\n",
    "import numpy as np\n",
    "from pandas import Series, DataFrame\n",
    "x1 = Series([2,3,4,5])\n",
    "x2 = Series(data=[1,2,3,4], index=['a', 'b', 'c', 'd'])\n",
    "print(x1)\n",
    "print(x2)"
   ]
  },
  {
   "cell_type": "code",
   "execution_count": 5,
   "metadata": {},
   "outputs": [
    {
     "name": "stdout",
     "output_type": "stream",
     "text": [
      "a    1\n",
      "b    2\n",
      "c    3\n",
      "d    4\n",
      "dtype: int64\n"
     ]
    }
   ],
   "source": [
    "'''\n",
    "采用字典的方式来创建 Series\n",
    "'''\n",
    "\n",
    "d = {'a':1, 'b':2, 'c':3, 'd':4}\n",
    "x3 = Series(d)\n",
    "print(x3)"
   ]
  },
  {
   "cell_type": "code",
   "execution_count": 6,
   "metadata": {},
   "outputs": [
    {
     "name": "stdout",
     "output_type": "stream",
     "text": [
      "   Chinese  English  Math\n",
      "0       66       65    30\n",
      "1       95       85    98\n",
      "2       93       92    96\n",
      "3       90       88    77\n",
      "4       80       90    90\n",
      "            English  Math  Chinese\n",
      "ZhangFei         65    30       66\n",
      "GuanYu           85    98       95\n",
      "ZhaoYun          92    96       93\n",
      "HuangZhong       88    77       90\n",
      "DianWei          90    90       80\n"
     ]
    }
   ],
   "source": [
    "'''\n",
    "DataFrame 类型数据结构类似数据库表。\n",
    "它包括了行索引和列索引。\n",
    "\n",
    "'''\n",
    "\n",
    "import pandas as pd\n",
    "from pandas import Series, DataFrame\n",
    "data = {'Chinese': [66, 95, 93, 90,80],'English': [65, 85, 92, 88, 90],'Math': [30, 98, 96, 77, 90]}\n",
    "df1= DataFrame(data)\n",
    "df2 = DataFrame(data, index=['ZhangFei', 'GuanYu', 'ZhaoYun', 'HuangZhong', 'DianWei'], columns=['English', 'Math', 'Chinese'])\n",
    "print(df1)\n",
    "print(df2)"
   ]
  },
  {
   "cell_type": "code",
   "execution_count": 8,
   "metadata": {},
   "outputs": [
    {
     "name": "stdout",
     "output_type": "stream",
     "text": [
      "                   Chinese  English    Math\n",
      "ZhangFei                 1          2     4\n",
      "GuanYu                   3          5     6\n",
      "ZhaoYun                  7          8     9\n",
      "HuangZhong              11         22    33\n",
      "DianWei                 66         55    44\n"
     ]
    }
   ],
   "source": [
    "'''\n",
    "数据导入和输出\n",
    "Pandas 允许直接从 xlsx，csv 等文件中导入数据，也可以输出到 xlsx, csv 等文件，非常方便。\n",
    "\n",
    "代码中的 data.xlsx 放在当前目录下\n",
    "'''\n",
    "\n",
    "import pandas as pd\n",
    "from pandas import Series, DataFrame\n",
    "score = DataFrame(pd.read_excel('data.xlsx'))\n",
    "score.to_excel('data1.xlsx')\n",
    "print(score)\n"
   ]
  },
  {
   "cell_type": "code",
   "execution_count": 12,
   "metadata": {},
   "outputs": [
    {
     "name": "stdout",
     "output_type": "stream",
     "text": [
      "            English  Math  Chinese\n",
      "ZhangFei         65    30       66\n",
      "GuanYu           85    98       95\n",
      "ZhaoYun          92    96       93\n",
      "HuangZhong       88    77       90\n",
      "DianWei          90    90       80\n",
      "DianWei          90    90       80\n",
      "            English  Math\n",
      "GuanYu           85    98\n",
      "ZhaoYun          92    96\n",
      "HuangZhong       88    77\n",
      "DianWei          90    90\n",
      "DianWei          90    90\n",
      "            YingYu  ShuXue\n",
      "GuanYu          85      98\n",
      "ZhaoYun         92      96\n",
      "HuangZhong      88      77\n",
      "DianWei         90      90\n",
      "DianWei         90      90\n",
      "            YingYu  ShuXue\n",
      "GuanYu          85      98\n",
      "ZhaoYun         92      96\n",
      "HuangZhong      88      77\n",
      "DianWei         90      90\n",
      "\n",
      "df2['ShuXue']:\n",
      "GuanYu        98\n",
      "ZhaoYun       96\n",
      "HuangZhong    77\n",
      "DianWei       90\n",
      "Name: ShuXue, dtype: int64\n"
     ]
    },
    {
     "data": {
      "text/plain": [
       "GuanYu        98\n",
       "ZhaoYun       96\n",
       "HuangZhong    77\n",
       "DianWei       90\n",
       "Name: ShuXue, dtype: int64"
      ]
     },
     "execution_count": 12,
     "metadata": {},
     "output_type": "execute_result"
    }
   ],
   "source": [
    "'''\n",
    "在数据清洗过程中，一般都会遇到以下这几种情况：\n",
    "1. 删除 DataFrame 中的不必要的列或行\n",
    "2. 重命名列名 columns，让列表名更容易识别\n",
    "3. 去重复的值\n",
    "4. 格式问题, 更改数据格式, 数据间的空格\n",
    "'''\n",
    "data = {'Chinese': [66, 95, 93, 90, 80, 80],'English': [65, 85, 92, 88, 90, 90],'Math': [30, 98, 96, 77, 90, 90]}\n",
    "df2 = DataFrame(data, index=['ZhangFei', 'GuanYu', 'ZhaoYun', 'HuangZhong', 'DianWei', 'DianWei'], columns=['English', 'Math', 'Chinese'])\n",
    "\n",
    "\n",
    "print(df2)\n",
    "\n",
    "# 1. 删除 DataFrame 中的不必要的列或行, \n",
    "# 把“语文”这列删掉。\n",
    "df2 = df2.drop(columns=['Chinese'])\n",
    "# 想把“张飞”这行删掉。\n",
    "df2 = df2.drop(index=['ZhangFei'])\n",
    "print(df2)\n",
    "\n",
    "# 重命名\n",
    "df2.rename(columns={'Math': 'ShuXue', 'English': 'YingYu'}, inplace = True)\n",
    "print(df2)\n",
    "\n",
    "# DianWei的数据是重复的\n",
    "df2 = df2.drop_duplicates() #去除重复行\n",
    "print(df2)\n",
    "\n",
    "print()\n",
    "print(\"df2['ShuXue']:\")\n",
    "print(df2['ShuXue'])\n",
    "\n",
    "# 把 ShuXue 字段的值改成 str 类型，或者 int64 可以这么写：\n",
    "\n",
    "df2['ShuXue'].astype('str') \n",
    "df2['ShuXue'].astype(np.int64) \n"
   ]
  },
  {
   "cell_type": "code",
   "execution_count": 17,
   "metadata": {},
   "outputs": [
    {
     "name": "stdout",
     "output_type": "stream",
     "text": [
      "            Yingyu  Shuxue\n",
      "GuanYu          85      98\n",
      "ZhaoYun         92      96\n",
      "HuangZhong      88      77\n",
      "DianWei         90      90\n"
     ]
    }
   ],
   "source": [
    "\n",
    "# df2['ShuXue'].astype('str') \n",
    "# #删除左右两边空格\n",
    "# df2['ShuXue']=df2['ShuXue'].map(str.strip)\n",
    "# #删除左边空格\n",
    "# df2['ShuXue']=df2['ShuXue'].map(str.lstrip)\n",
    "# #删除右边空格\n",
    "# df2['ShuXue']=df2['ShuXue'].map(str.rstrip)\n",
    "\n",
    "\n",
    "# #全部大写\n",
    "# df2.columns = df2.columns.str.upper()\n",
    "# #全部小写\n",
    "# df2.columns = df2.columns.str.lower()\n",
    "# #首字母大写\n",
    "# df2.columns = df2.columns.str.title()\n",
    "\n",
    "# print(df2)"
   ]
  },
  {
   "cell_type": "code",
   "execution_count": 25,
   "metadata": {},
   "outputs": [
    {
     "name": "stdout",
     "output_type": "stream",
     "text": [
      "            Yingyu  Shuxue  test\n",
      "GuanYu          85      98   a b\n",
      "ZhaoYun         92      96  b c \n",
      "HuangZhong      88      77  cdf \n",
      "DianWei         90      90   de \n",
      "after strip -->\n",
      "            Yingyu  Shuxue test\n",
      "GuanYu          85      98  a b\n",
      "ZhaoYun         92      96  b c\n",
      "HuangZhong      88      77  cdf\n",
      "DianWei         90      90   de\n",
      "after upper -->\n",
      "            Yingyu  Shuxue test\n",
      "GuanYu          85      98  A B\n",
      "ZhaoYun         92      96  B C\n",
      "HuangZhong      88      77  CDF\n",
      "DianWei         90      90   DE\n"
     ]
    }
   ],
   "source": [
    "# 追加一列\n",
    "df2['test']=['a b','b c ','cdf ','de ']\n",
    "print(df2)\n",
    "df2['test']=df2['test'].map(str.strip)\n",
    "# 去空格\n",
    "print('after strip -->')\n",
    "print(df2)\n",
    "# 大写\n",
    "df2['test']=df2['test'].map(str.upper)\n",
    "print('after upper -->')\n",
    "print(df2)"
   ]
  },
  {
   "cell_type": "code",
   "execution_count": 27,
   "metadata": {},
   "outputs": [
    {
     "name": "stdout",
     "output_type": "stream",
     "text": [
      "            Yingyu  Shuxue test testNull\n",
      "GuanYu          85      98  A B      a b\n",
      "ZhaoYun         92      96  B C     b c \n",
      "HuangZhong      88      77  CDF     cdf \n",
      "DianWei         90      90   DE     None\n"
     ]
    }
   ],
   "source": [
    "df2['testNull']=['a b','b c ','cdf ', None]\n",
    "print(df2)"
   ]
  },
  {
   "cell_type": "code",
   "execution_count": 31,
   "metadata": {},
   "outputs": [
    {
     "name": "stdout",
     "output_type": "stream",
     "text": [
      "            Yingyu  Shuxue   test  testNull\n",
      "GuanYu       False   False  False     False\n",
      "ZhaoYun      False   False  False     False\n",
      "HuangZhong   False   False  False     False\n",
      "DianWei      False   False  False      True\n"
     ]
    }
   ],
   "source": [
    "# 查找空值\n",
    "print(df2.isnull())"
   ]
  },
  {
   "cell_type": "code",
   "execution_count": 34,
   "metadata": {},
   "outputs": [
    {
     "name": "stdout",
     "output_type": "stream",
     "text": [
      "Yingyu      False\n",
      "Shuxue      False\n",
      "test        False\n",
      "testNull     True\n",
      "dtype: bool\n"
     ]
    }
   ],
   "source": [
    "#  查找哪列存在空值\n",
    "print(df2.isnull().any())"
   ]
  },
  {
   "cell_type": "code",
   "execution_count": 37,
   "metadata": {},
   "outputs": [
    {
     "name": "stdout",
     "output_type": "stream",
     "text": [
      "            Yingyu  Shuxue test testNull        name\n",
      "GuanYu          85      98  A B      a b      GuanYu\n",
      "ZhaoYun         92      96  B C     b c      ZhaoYun\n",
      "HuangZhong      88      77  CDF     cdf   HuangZhong\n",
      "DianWei         90      90   DE     None     DianWei\n",
      "\n",
      "after apply uppper\n",
      "            Yingyu  Shuxue test testNull        name\n",
      "GuanYu          85      98  A B      a b      GUANYU\n",
      "ZhaoYun         92      96  B C     b c      ZHAOYUN\n",
      "HuangZhong      88      77  CDF     cdf   HUANGZHONG\n",
      "DianWei         90      90   DE     None     DIANWEI\n"
     ]
    }
   ],
   "source": [
    "'''\n",
    "#  apply()    是pandas里DataFrame的函数，可以针对DataFrame中的行数据或列数据应用操作。\n",
    "#  applymap() 是pandas里DataFrame的函数，但是它对DataFrame中所有的元素应用操作。\n",
    "# map() 是python自带的函数，但它在DataFrame中可以直接使用**.map()**后缀的方式调用，\n",
    "由于只能直接对序列元素的操作，所以必须对DataFrame的某列 (只针对于列) 应用操作。\n",
    "'''\n",
    "\n",
    "# 使用 apply 函数对数据进行清洗\n",
    "df2['name'] = df2.index\n",
    "print(df2)\n",
    "df2['name'] = df2['name'].apply(str.upper)\n",
    "print('\\nafter apply uppper')\n",
    "print(df2)"
   ]
  },
  {
   "cell_type": "code",
   "execution_count": 39,
   "metadata": {},
   "outputs": [
    {
     "name": "stdout",
     "output_type": "stream",
     "text": [
      "after double-->\n",
      "            Yingyu  Shuxue test testNull        name\n",
      "GuanYu          85     392  A B      a b      GUANYU\n",
      "ZhaoYun         92     384  B C     b c      ZHAOYUN\n",
      "HuangZhong      88     308  CDF     cdf   HUANGZHONG\n",
      "DianWei         90     360   DE     None     DIANWEI\n"
     ]
    }
   ],
   "source": [
    "# 定义自定义函数，用apply处理数据\n",
    "def double_df(x):\n",
    "           return 2*x\n",
    "df2['Shuxue'] = df2['Shuxue'].apply(double_df)\n",
    "print('after double-->')\n",
    "print(df2)"
   ]
  },
  {
   "cell_type": "code",
   "execution_count": 41,
   "metadata": {},
   "outputs": [
    {
     "name": "stdout",
     "output_type": "stream",
     "text": [
      "   data1      name\n",
      "0      0  ZhangFei\n",
      "1      1    GuanYu\n",
      "2      2         a\n",
      "3      3         b\n",
      "4      4         c\n",
      "          data1\n",
      "count  5.000000\n",
      "mean   2.000000\n",
      "std    1.581139\n",
      "min    0.000000\n",
      "25%    1.000000\n",
      "50%    2.000000\n",
      "75%    3.000000\n",
      "max    4.000000\n"
     ]
    }
   ],
   "source": [
    "# 统计\n",
    "df3 = DataFrame({'name':['ZhangFei', 'GuanYu', 'a', 'b', 'c'], 'data1':range(5)})\n",
    "print(df3)\n",
    "print(df3.describe())"
   ]
  },
  {
   "cell_type": "code",
   "execution_count": 45,
   "metadata": {},
   "outputs": [
    {
     "name": "stdout",
     "output_type": "stream",
     "text": [
      "\n",
      "df4: \n",
      "\n",
      "    data1      name\n",
      "0      0  ZhangFei\n",
      "1      1    GuanYu\n",
      "2      2         a\n",
      "3      3         b\n",
      "4      4         c\n",
      "\n",
      "df5:\n",
      "\n",
      "    data2      name\n",
      "0      0  ZhangFei\n",
      "1      1    GuanYu\n",
      "2      2         A\n",
      "3      3         B\n",
      "4      4         C\n",
      "\n",
      "df6:\n",
      "\n",
      "    data1      name  data2\n",
      "0      0  ZhangFei      0\n",
      "1      1    GuanYu      1\n"
     ]
    }
   ],
   "source": [
    "# 合并数据表\n",
    "df4 = DataFrame({'name':['ZhangFei', 'GuanYu', 'a', 'b', 'c'], 'data1':range(5)})\n",
    "print('\\ndf4: \\n\\n',df4)\n",
    "df5 = DataFrame({'name':['ZhangFei', 'GuanYu', 'A', 'B', 'C'], 'data2':range(5)})\n",
    "print('\\ndf5:\\n\\n',df5)\n",
    "df6 = pd.merge(df4, df5, on='name')\n",
    "print('\\ndf6:\\n\\n',df6)"
   ]
  },
  {
   "cell_type": "code",
   "execution_count": 47,
   "metadata": {},
   "outputs": [
    {
     "name": "stdout",
     "output_type": "stream",
     "text": [
      "   data1      name  data2\n",
      "0      0  ZhangFei      0\n",
      "1      1    GuanYu      1\n"
     ]
    }
   ],
   "source": [
    "# 用 inner 方法合并表数据\n",
    "df7 = pd.merge(df4, df5, how='inner')\n",
    "print(df7)"
   ]
  },
  {
   "cell_type": "code",
   "execution_count": 48,
   "metadata": {},
   "outputs": [
    {
     "name": "stdout",
     "output_type": "stream",
     "text": [
      "   data1      name  data2\n",
      "0      0  ZhangFei    0.0\n",
      "1      1    GuanYu    1.0\n",
      "2      2         a    NaN\n",
      "3      3         b    NaN\n",
      "4      4         c    NaN\n"
     ]
    }
   ],
   "source": [
    "# 用 left 方法合并表数据\n",
    "df8 = pd.merge(df4, df5, how='left')\n",
    "print(df8)"
   ]
  },
  {
   "cell_type": "code",
   "execution_count": 49,
   "metadata": {},
   "outputs": [
    {
     "name": "stdout",
     "output_type": "stream",
     "text": [
      "   data1      name  data2\n",
      "0    0.0  ZhangFei      0\n",
      "1    1.0    GuanYu      1\n",
      "2    NaN         A      2\n",
      "3    NaN         B      3\n",
      "4    NaN         C      4\n"
     ]
    }
   ],
   "source": [
    "# 用 right 方法合并表数据\n",
    "df9 = pd.merge(df4, df5, how='right')\n",
    "print(df9)"
   ]
  },
  {
   "cell_type": "code",
   "execution_count": 50,
   "metadata": {},
   "outputs": [
    {
     "name": "stdout",
     "output_type": "stream",
     "text": [
      "   data1      name  data2\n",
      "0    0.0  ZhangFei    0.0\n",
      "1    1.0    GuanYu    1.0\n",
      "2    2.0         a    NaN\n",
      "3    3.0         b    NaN\n",
      "4    4.0         c    NaN\n",
      "5    NaN         A    2.0\n",
      "6    NaN         B    3.0\n",
      "7    NaN         C    4.0\n"
     ]
    }
   ],
   "source": [
    "# 用 outer 方法合并表数据\n",
    "df10 = pd.merge(df4, df5, how='outer')\n",
    "print(df10)"
   ]
  },
  {
   "cell_type": "code",
   "execution_count": 56,
   "metadata": {},
   "outputs": [
    {
     "name": "stdout",
     "output_type": "stream",
     "text": [
      "\n",
      "    data1      name\n",
      "0      0  ZhangFei\n",
      "1      1    GuanYu\n",
      "2      2         a\n",
      "3      3         b\n",
      "4      4         c \n",
      "\n",
      "   data1 name\n",
      "0      2    a\n"
     ]
    }
   ],
   "source": [
    "'''\n",
    "上面合并数据表，就非常像SQL的处理了\n",
    "\n",
    "真的有 pandasql 哦！\n",
    "\n",
    "安装命令：pip install pandasql\n",
    "'''\n",
    "\n",
    "import pandas as pd\n",
    "from pandas import DataFrame\n",
    "from pandasql import sqldf, load_meat, load_births\n",
    "df1 = DataFrame({'name':['ZhangFei', 'GuanYu', 'a', 'b', 'c'], 'data1':range(5)})\n",
    "print('\\n',df1,'\\n')\n",
    "pysqldf = lambda sql: sqldf(sql, globals())\n",
    "sql = \"select * from df1 where name ='a'\"\n",
    "print(pysqldf(sql))"
   ]
  },
  {
   "cell_type": "code",
   "execution_count": 57,
   "metadata": {},
   "outputs": [
    {
     "name": "stdout",
     "output_type": "stream",
     "text": [
      "             Chinese  English  Math\n",
      "Zhang Fei         66       65   NaN\n",
      "Guan Yu           95       85  98.0\n",
      "Zhao Yun          95       92  96.0\n",
      "Huang Zhong       90       80  77.0\n",
      "Dian Wei          80       90  90.0\n",
      "Dian Wei          80       90  90.0\n"
     ]
    }
   ],
   "source": [
    "'''\n",
    "练习题\n",
    "使用 Pandas 中的 DataFrame 进行创建，并对数据进行清洗。同时新增一列“总和”计算每个人的三科成绩之和。\n",
    "\n",
    "'''\n",
    "scores = {'Chinese': [66, 95, 95, 90, 80, 80],\n",
    "          'English': [65, 85, 92, 80, 90, 90],\n",
    "          'Math': [None, 98, 96, 77, 90, 90]}\n",
    "df = DataFrame(scores, index=['Zhang Fei', 'Guan Yu', 'Zhao Yun', 'Huang Zhong', 'Dian Wei','Dian Wei'],)\n",
    "print(df)\n"
   ]
  },
  {
   "cell_type": "code",
   "execution_count": 58,
   "metadata": {},
   "outputs": [
    {
     "name": "stdout",
     "output_type": "stream",
     "text": [
      "             Chinese  English  Math\n",
      "Zhang Fei         66       65   NaN\n",
      "Guan Yu           95       85  98.0\n",
      "Zhao Yun          95       92  96.0\n",
      "Huang Zhong       90       80  77.0\n",
      "Dian Wei          80       90  90.0\n"
     ]
    }
   ],
   "source": [
    "# 去重\n",
    "df = df.drop_duplicates()\n",
    "print(df)"
   ]
  },
  {
   "cell_type": "code",
   "execution_count": 59,
   "metadata": {},
   "outputs": [
    {
     "name": "stdout",
     "output_type": "stream",
     "text": [
      "             Chinese  English  Math  Total\n",
      "Zhang Fei         66       65   NaN  131.0\n",
      "Guan Yu           95       85  98.0  278.0\n",
      "Zhao Yun          95       92  96.0  283.0\n",
      "Huang Zhong       90       80  77.0  247.0\n",
      "Dian Wei          80       90  90.0  260.0\n"
     ]
    }
   ],
   "source": [
    "# 按人求和\n",
    "df['Total'] = df.sum(axis=1)\n",
    "print(df)"
   ]
  },
  {
   "cell_type": "code",
   "execution_count": 60,
   "metadata": {},
   "outputs": [
    {
     "name": "stdout",
     "output_type": "stream",
     "text": [
      "              Chinese  English   Math   Total\n",
      "Zhang Fei        66.0     65.0    NaN   131.0\n",
      "Guan Yu          95.0     85.0   98.0   278.0\n",
      "Zhao Yun         95.0     92.0   96.0   283.0\n",
      "Huang Zhong      90.0     80.0   77.0   247.0\n",
      "Dian Wei         80.0     90.0   90.0   260.0\n",
      "SubjectTotal    426.0    412.0  361.0  1199.0\n"
     ]
    }
   ],
   "source": [
    "# 按照科目求和\n",
    "df.loc['SubjectTotal'] = df.sum(axis=0)\n",
    "print(df)"
   ]
  },
  {
   "cell_type": "code",
   "execution_count": 3,
   "metadata": {},
   "outputs": [
    {
     "data": {
      "text/html": [
       "<img src=\"https://static001.geekbang.org/resource/image/74/cd/74884960677548b08acdc919c13460cd.jpg\"/>"
      ],
      "text/plain": [
       "<IPython.core.display.Image object>"
      ]
     },
     "execution_count": 3,
     "metadata": {},
     "output_type": "execute_result"
    }
   ],
   "source": [
    "# Pandas 知识图，来自极客时间\n",
    "from IPython.display import Image\n",
    "from IPython.core.display import HTML \n",
    "Image(url= \"https://static001.geekbang.org/resource/image/74/cd/74884960677548b08acdc919c13460cd.jpg\")"
   ]
  },
  {
   "cell_type": "code",
   "execution_count": 31,
   "metadata": {},
   "outputs": [
    {
     "name": "stdout",
     "output_type": "stream",
     "text": [
      "    year month  sum(pay_amount)\n",
      "0   2017     1         241755.7\n",
      "1   2017     2        2582410.6\n",
      "2   2017     3        1977644.7\n",
      "3   2017     4        1162322.8\n",
      "4   2017     5        3038255.2\n",
      "5   2017     6        2773154.4\n",
      "6   2017     7        1677527.3\n",
      "7   2017     8        2135214.4\n",
      "8   2017     9        1355307.3\n",
      "9   2017    10        1380672.7\n",
      "10  2017    11        2428753.9\n",
      "11  2017    12        3580954.6\n",
      "12                   24333973.6\n",
      "    year month  sum(pay_amount)\n",
      "0   2018     1         317697.2\n",
      "1   2018     2        2214537.1\n",
      "2   2018     3        3108435.9\n",
      "3   2018     4        2717482.6\n",
      "4   2018     5        2723670.1\n",
      "5   2018     6        3808041.3\n",
      "6   2018     7        5426222.3\n",
      "7   2018     8        2749747.0\n",
      "8   2018     9         891197.0\n",
      "9   2018    10        1510374.3\n",
      "10  2018    11        2307257.4\n",
      "11  2018    12        1759487.2\n",
      "12                   29534149.4\n",
      "    year month  sum(pay_amount)\n",
      "0   2017     1         241755.7\n",
      "1   2017     2        2582410.6\n",
      "2   2017     3        1977644.7\n",
      "3   2017     4        1162322.8\n",
      "4   2017     5        3038255.2\n",
      "5   2017     6        2773154.4\n",
      "6   2017     7        1677527.3\n",
      "7   2017     8        2135214.4\n",
      "8   2017     9        1355307.3\n",
      "9   2017    10        1380672.7\n",
      "10  2017    11        2428753.9\n",
      "11  2017    12        3580954.6\n",
      "12                   24333973.6\n",
      "13  2018     1         317697.2\n",
      "14  2018     2        2214537.1\n",
      "15  2018     3        3108435.9\n",
      "16  2018     4        2717482.6\n",
      "17  2018     5        2723670.1\n",
      "18  2018     6        3808041.3\n",
      "19  2018     7        5426222.3\n",
      "20  2018     8        2749747.0\n",
      "21  2018     9         891197.0\n",
      "22  2018    10        1510374.3\n",
      "23  2018    11        2307257.4\n",
      "24  2018    12        1759487.2\n",
      "25                   29534149.4\n",
      "26                  107736246.0\n"
     ]
    }
   ],
   "source": [
    "import pandas as pd\n",
    "from pandas import Series, DataFrame\n",
    "from pandasql import sqldf, load_meat, load_births\n",
    "\n",
    "score = DataFrame(pd.read_excel('user_trade.xls'))\n",
    "# print(score)\n",
    "# convert date column to datetime\n",
    "score['dt'] = pd.to_datetime(score['dt']) \n",
    "# print(score['dt'].dt.year)\n",
    "# 增加一列放年份\n",
    "score['year']= score['dt'].dt.year\n",
    "# 增加一列放月份\n",
    "score['month']= score['dt'].dt.month\n",
    "# print(score)\n",
    "# pd.concat([score, pd.DataFrame(columns=list('DE'))])\n",
    "pysqldf2017 = lambda sql: sqldf(sql2017, globals())\n",
    "sql2017 = \"select year, month, sum(pay_amount)   from score  where year = '2017' group by year,month \"\n",
    "# print(pysqldf(sql))\n",
    "\n",
    "table2017 =  DataFrame(pysqldf(sql2017))\n",
    "# print(table2017)\n",
    "# 对行求和新加一列\n",
    "# table2017['Col_sum'] = table2017.apply(lambda x: x.sum(), axis=1)\n",
    "# 对列求和新增一行\n",
    "# table2017.loc['Row_sum'] = table2017.apply(lambda x: x.sum())\n",
    "# table2017['sum(pay_amount)'].sum()  # diff为要求和的列\n",
    "# print(table2017['sum(pay_amount)'].sum())\n",
    "# table2017.loc[12] = {'year':'','month':'', 'sum(pay_amount)':table2017['sum(pay_amount)'].sum()}\n",
    "table2017 = table2017.append([{'year':'','month':'', 'sum(pay_amount)':table2017['sum(pay_amount)'].sum()}], ignore_index=True)\n",
    "print(table2017)\n",
    "\n",
    "pysqldf2018 = lambda sql: sqldf(sql2018, globals())\n",
    "sql2018 = \"select year, month, sum(pay_amount)   from score  where year = '2018' group by year,month \"\n",
    "table2018 =  DataFrame(pysqldf(sql2018))\n",
    "table2018 = table2018.append([{'year':'','month':'', 'sum(pay_amount)':table2018['sum(pay_amount)'].sum()}], ignore_index=True)\n",
    "print(table2018)\n",
    "# print(pysqldf(sql))\n",
    "\n",
    "\n",
    "\n",
    "dfall = pd.merge(table2017, table2018, how='outer')\n",
    "dfall = dfall.append([{'year':'','month':'', 'sum(pay_amount)':dfall['sum(pay_amount)'].sum()}], ignore_index=True)\n",
    "print(dfall)"
   ]
  },
  {
   "cell_type": "code",
   "execution_count": 34,
   "metadata": {},
   "outputs": [
    {
     "name": "stdout",
     "output_type": "stream",
     "text": [
      "    year month  sum(pay_amount)\n",
      "0   2017     1         241755.7\n",
      "1   2017     2        2582410.6\n",
      "2   2017     3        1977644.7\n",
      "3   2017     4        1162322.8\n",
      "4   2017     5        3038255.2\n",
      "5   2017     6        2773154.4\n",
      "6   2017     7        1677527.3\n",
      "7   2017     8        2135214.4\n",
      "8   2017     9        1355307.3\n",
      "9   2017    10        1380672.7\n",
      "10  2017    11        2428753.9\n",
      "11  2017    12        3580954.6\n",
      "12                   24333973.6\n",
      "13  2018     1         317697.2\n",
      "14  2018     2        2214537.1\n",
      "15  2018     3        3108435.9\n",
      "16  2018     4        2717482.6\n",
      "17  2018     5        2723670.1\n",
      "18  2018     6        3808041.3\n",
      "19  2018     7        5426222.3\n",
      "20  2018     8        2749747.0\n",
      "21  2018     9         891197.0\n",
      "22  2018    10        1510374.3\n",
      "23  2018    11        2307257.4\n",
      "24  2018    12        1759487.2\n",
      "25                   29534149.4\n",
      "26                   53868123.0\n"
     ]
    }
   ],
   "source": [
    "import pandas as pd\n",
    "from pandas import Series, DataFrame\n",
    "from pandasql import sqldf, load_meat, load_births\n",
    "'''\n",
    "20191126 今天一个群里有小伙伴讨论，Pandas 想怎么实现rollup的功能，我也不知道，查了一下也没查到，我暂时只会做到形似。\n",
    "\n",
    "SQL语句是这样：\n",
    "select year(a.dt) y, month(a.dt) m , sum(a.pay_amount) from user_trade a\n",
    "where year(a.dt)  in (2017,2018)\n",
    "GROUP BY year(a.dt),month(a.dt)\n",
    "with rollup\n",
    "\n",
    "设计知识点：\n",
    "0. 读取Excel成DataFrame\n",
    "1. 转换日期\n",
    "2. Dataframe 增加列、行，如append, loc[i], score['year']\n",
    "3. pandasql执行语句\n",
    "4. 合并Dataframe，如：merge\n",
    "5. Dataframe求和运算\n",
    "6.\n",
    "\n",
    "'''\n",
    "# 读取小伙伴提供的原始数据\n",
    "score = DataFrame(pd.read_excel('user_trade.xls'))\n",
    "# 转换日期\n",
    "score['dt'] = pd.to_datetime(score['dt']) \n",
    "# 增加一列放年份\n",
    "score['year']= score['dt'].dt.year\n",
    "# 增加一列放月份\n",
    "score['month']= score['dt'].dt.month\n",
    "# print(score)\n",
    "# 用sql查出来2017的汇总\n",
    "pysqldf2017 = lambda sql: sqldf(sql2017, globals())\n",
    "sql2017 = \"select year, month, sum(pay_amount)   from score  where year = '2017' group by year,month \"\n",
    "table2017 =  DataFrame(pysqldf(sql2017))\n",
    "sum2017 = table2017['sum(pay_amount)'].sum()\n",
    "# 然后将pay_amount加起来放在最后一行\n",
    "# table2017.loc[12] = {'year':'','month':'', 'sum(pay_amount)':table2017['sum(pay_amount)'].sum()}\n",
    "table2017 = table2017.append([{'year':'','month':'', 'sum(pay_amount)':sum2017}], ignore_index=True)\n",
    "\n",
    "# 用sql查出来2018的汇总\n",
    "pysqldf2018 = lambda sql: sqldf(sql2018, globals())\n",
    "sql2018 = \"select year, month, sum(pay_amount)   from score  where year = '2018' group by year,month \"\n",
    "table2018 =  DataFrame(pysqldf(sql2018))\n",
    "sum2018 = table2018['sum(pay_amount)'].sum()\n",
    "# 然后将pay_amount加起来放在最后一行\n",
    "table2018 = table2018.append([{'year':'','month':'', 'sum(pay_amount)':sum2018}], ignore_index=True)\n",
    "\n",
    "# 将2017 和 2018 的数据外连合并起来\n",
    "dfall = pd.merge(table2017, table2018, how='outer')\n",
    "# 然后将pay_amount加起来放在最后一行\n",
    "sumAll = sum2017+sum2018\n",
    "dfall = dfall.append([{'year':'','month':'', 'sum(pay_amount)':sumAll}], ignore_index=True)\n",
    "print(dfall)"
   ]
  },
  {
   "cell_type": "code",
   "execution_count": 55,
   "metadata": {},
   "outputs": [
    {
     "name": "stdout",
     "output_type": "stream",
     "text": [
      "            pay_amount\n",
      "year month            \n",
      "2017 1        241755.7\n",
      "     2       2582410.6\n",
      "     3       1977644.7\n",
      "     4       1162322.8\n",
      "     5       3038255.2\n",
      "     6       2773154.4\n",
      "     7       1677527.3\n",
      "     8       2135214.4\n",
      "     9       1355307.3\n",
      "     10      1380672.7\n",
      "     11      2428753.9\n",
      "     12      3580954.6\n",
      "2018 1        317697.2\n",
      "     2       2214537.1\n",
      "     3       3108435.9\n",
      "     4       2717482.6\n",
      "     5       2723670.1\n",
      "     6       3808041.3\n",
      "     7       5426222.3\n",
      "     8       2749747.0\n",
      "     9        891197.0\n",
      "     10      1510374.3\n",
      "     11      2307257.4\n",
      "     12      1759487.2\n",
      "2017 合计     24333973.6\n",
      "2018 合计     29534149.4\n",
      "合计   合计     53868123.0\n"
     ]
    },
    {
     "name": "stderr",
     "output_type": "stream",
     "text": [
      "C:\\Anaconda3\\lib\\site-packages\\ipykernel\\kernelbase.py:399: PerformanceWarning: indexing past lexsort depth may impact performance.\n",
      "  user_expressions, allow_stdin)\n"
     ]
    }
   ],
   "source": [
    "import pandas as pd\n",
    "from pandas import Series, DataFrame\n",
    "from pandasql import sqldf, load_meat, load_births\n",
    "\n",
    "# 读取小伙伴提供的原始数据\n",
    "score = DataFrame(pd.read_excel('user_trade.xls'))\n",
    "# 转换日期\n",
    "score['dt'] = pd.to_datetime(score['dt']) \n",
    "# 增加一列放年份\n",
    "score['year'] = score['dt'].dt.year\n",
    "# 增加一列放月份\n",
    "score['month'] = score['dt'].dt.month\n",
    "\n",
    "\n",
    "ut_1718 = score[score.year.isin([2017,2018])]\n",
    "\n",
    "ut_ym = ut_1718.groupby([ut_1718['year'],ut_1718['month']])[['pay_amount']].sum()\n",
    "sum2017 =  ut_ym.loc[2017].sum()\n",
    "sum2018 =  ut_ym.loc[2018].sum()\n",
    "\n",
    "ut_ym.loc[(2017,'合计'),] = sum2017\n",
    "ut_ym.loc[(2018,'合计'),] = sum2018\n",
    "ut_ym.loc[('合计','合计'),] = sum2017 + sum2018\n",
    "print(ut_ym)\n",
    "# ut_ym.sort_values(by=['year', 'month'], ascending=False)\n",
    "# print(ut_ym)"
   ]
  },
  {
   "cell_type": "code",
   "execution_count": 58,
   "metadata": {},
   "outputs": [
    {
     "data": {
      "text/html": [
       "<div>\n",
       "<style scoped>\n",
       "    .dataframe tbody tr th:only-of-type {\n",
       "        vertical-align: middle;\n",
       "    }\n",
       "\n",
       "    .dataframe tbody tr th {\n",
       "        vertical-align: top;\n",
       "    }\n",
       "\n",
       "    .dataframe thead th {\n",
       "        text-align: right;\n",
       "    }\n",
       "</style>\n",
       "<table border=\"1\" class=\"dataframe\">\n",
       "  <thead>\n",
       "    <tr style=\"text-align: right;\">\n",
       "      <th></th>\n",
       "      <th></th>\n",
       "      <th>pay_amount</th>\n",
       "    </tr>\n",
       "    <tr>\n",
       "      <th>year</th>\n",
       "      <th>month</th>\n",
       "      <th></th>\n",
       "    </tr>\n",
       "  </thead>\n",
       "  <tbody>\n",
       "    <tr>\n",
       "      <th rowspan=\"13\" valign=\"top\">2017</th>\n",
       "      <th>1</th>\n",
       "      <td>241755.7</td>\n",
       "    </tr>\n",
       "    <tr>\n",
       "      <th>2</th>\n",
       "      <td>2582410.6</td>\n",
       "    </tr>\n",
       "    <tr>\n",
       "      <th>3</th>\n",
       "      <td>1977644.7</td>\n",
       "    </tr>\n",
       "    <tr>\n",
       "      <th>4</th>\n",
       "      <td>1162322.8</td>\n",
       "    </tr>\n",
       "    <tr>\n",
       "      <th>5</th>\n",
       "      <td>3038255.2</td>\n",
       "    </tr>\n",
       "    <tr>\n",
       "      <th>6</th>\n",
       "      <td>2773154.4</td>\n",
       "    </tr>\n",
       "    <tr>\n",
       "      <th>7</th>\n",
       "      <td>1677527.3</td>\n",
       "    </tr>\n",
       "    <tr>\n",
       "      <th>8</th>\n",
       "      <td>2135214.4</td>\n",
       "    </tr>\n",
       "    <tr>\n",
       "      <th>9</th>\n",
       "      <td>1355307.3</td>\n",
       "    </tr>\n",
       "    <tr>\n",
       "      <th>10</th>\n",
       "      <td>1380672.7</td>\n",
       "    </tr>\n",
       "    <tr>\n",
       "      <th>11</th>\n",
       "      <td>2428753.9</td>\n",
       "    </tr>\n",
       "    <tr>\n",
       "      <th>12</th>\n",
       "      <td>3580954.6</td>\n",
       "    </tr>\n",
       "    <tr>\n",
       "      <th>合计</th>\n",
       "      <td>24333973.6</td>\n",
       "    </tr>\n",
       "    <tr>\n",
       "      <th rowspan=\"13\" valign=\"top\">2018</th>\n",
       "      <th>1</th>\n",
       "      <td>317697.2</td>\n",
       "    </tr>\n",
       "    <tr>\n",
       "      <th>2</th>\n",
       "      <td>2214537.1</td>\n",
       "    </tr>\n",
       "    <tr>\n",
       "      <th>3</th>\n",
       "      <td>3108435.9</td>\n",
       "    </tr>\n",
       "    <tr>\n",
       "      <th>4</th>\n",
       "      <td>2717482.6</td>\n",
       "    </tr>\n",
       "    <tr>\n",
       "      <th>5</th>\n",
       "      <td>2723670.1</td>\n",
       "    </tr>\n",
       "    <tr>\n",
       "      <th>6</th>\n",
       "      <td>3808041.3</td>\n",
       "    </tr>\n",
       "    <tr>\n",
       "      <th>7</th>\n",
       "      <td>5426222.3</td>\n",
       "    </tr>\n",
       "    <tr>\n",
       "      <th>8</th>\n",
       "      <td>2749747.0</td>\n",
       "    </tr>\n",
       "    <tr>\n",
       "      <th>9</th>\n",
       "      <td>891197.0</td>\n",
       "    </tr>\n",
       "    <tr>\n",
       "      <th>10</th>\n",
       "      <td>1510374.3</td>\n",
       "    </tr>\n",
       "    <tr>\n",
       "      <th>11</th>\n",
       "      <td>2307257.4</td>\n",
       "    </tr>\n",
       "    <tr>\n",
       "      <th>12</th>\n",
       "      <td>1759487.2</td>\n",
       "    </tr>\n",
       "    <tr>\n",
       "      <th>合计</th>\n",
       "      <td>29534149.4</td>\n",
       "    </tr>\n",
       "    <tr>\n",
       "      <th rowspan=\"13\" valign=\"top\">合计</th>\n",
       "      <th>1</th>\n",
       "      <td>559452.9</td>\n",
       "    </tr>\n",
       "    <tr>\n",
       "      <th>2</th>\n",
       "      <td>4796947.7</td>\n",
       "    </tr>\n",
       "    <tr>\n",
       "      <th>3</th>\n",
       "      <td>5086080.6</td>\n",
       "    </tr>\n",
       "    <tr>\n",
       "      <th>4</th>\n",
       "      <td>3879805.4</td>\n",
       "    </tr>\n",
       "    <tr>\n",
       "      <th>5</th>\n",
       "      <td>5761925.3</td>\n",
       "    </tr>\n",
       "    <tr>\n",
       "      <th>6</th>\n",
       "      <td>6581195.7</td>\n",
       "    </tr>\n",
       "    <tr>\n",
       "      <th>7</th>\n",
       "      <td>7103749.6</td>\n",
       "    </tr>\n",
       "    <tr>\n",
       "      <th>8</th>\n",
       "      <td>4884961.4</td>\n",
       "    </tr>\n",
       "    <tr>\n",
       "      <th>9</th>\n",
       "      <td>2246504.3</td>\n",
       "    </tr>\n",
       "    <tr>\n",
       "      <th>10</th>\n",
       "      <td>2891047.0</td>\n",
       "    </tr>\n",
       "    <tr>\n",
       "      <th>11</th>\n",
       "      <td>4736011.3</td>\n",
       "    </tr>\n",
       "    <tr>\n",
       "      <th>12</th>\n",
       "      <td>5340441.8</td>\n",
       "    </tr>\n",
       "    <tr>\n",
       "      <th>合计</th>\n",
       "      <td>53868123.0</td>\n",
       "    </tr>\n",
       "  </tbody>\n",
       "</table>\n",
       "</div>"
      ],
      "text/plain": [
       "            pay_amount\n",
       "year month            \n",
       "2017 1        241755.7\n",
       "     2       2582410.6\n",
       "     3       1977644.7\n",
       "     4       1162322.8\n",
       "     5       3038255.2\n",
       "     6       2773154.4\n",
       "     7       1677527.3\n",
       "     8       2135214.4\n",
       "     9       1355307.3\n",
       "     10      1380672.7\n",
       "     11      2428753.9\n",
       "     12      3580954.6\n",
       "     合计     24333973.6\n",
       "2018 1        317697.2\n",
       "     2       2214537.1\n",
       "     3       3108435.9\n",
       "     4       2717482.6\n",
       "     5       2723670.1\n",
       "     6       3808041.3\n",
       "     7       5426222.3\n",
       "     8       2749747.0\n",
       "     9        891197.0\n",
       "     10      1510374.3\n",
       "     11      2307257.4\n",
       "     12      1759487.2\n",
       "     合计     29534149.4\n",
       "合计   1        559452.9\n",
       "     2       4796947.7\n",
       "     3       5086080.6\n",
       "     4       3879805.4\n",
       "     5       5761925.3\n",
       "     6       6581195.7\n",
       "     7       7103749.6\n",
       "     8       4884961.4\n",
       "     9       2246504.3\n",
       "     10      2891047.0\n",
       "     11      4736011.3\n",
       "     12      5340441.8\n",
       "     合计     53868123.0"
      ]
     },
     "execution_count": 58,
     "metadata": {},
     "output_type": "execute_result"
    }
   ],
   "source": [
    "# 透视表 pivot_table 实现 的版本\n",
    "import pandas as pd\n",
    "import numpy as np\n",
    "user_trade = pd.read_excel('user_trade.xls',parse_dates=['dt'])\n",
    "user_trade['year'] = user_trade['dt'].dt.year\n",
    "user_trade['month'] = user_trade['dt'].dt.month\n",
    "ut_1718 = user_trade[user_trade.year.isin([2017,2018])]\n",
    "table = pd.pivot_table(ut_1718, values=['pay_amount'],\\\n",
    "                     index=['year'], columns=['month'], aggfunc=np.sum, margins=True, margins_name='合计')\n",
    "table.stack('month')"
   ]
  },
  {
   "cell_type": "code",
   "execution_count": null,
   "metadata": {},
   "outputs": [],
   "source": []
  }
 ],
 "metadata": {
  "kernelspec": {
   "display_name": "Python 3",
   "language": "python",
   "name": "python3"
  },
  "language_info": {
   "codemirror_mode": {
    "name": "ipython",
    "version": 3
   },
   "file_extension": ".py",
   "mimetype": "text/x-python",
   "name": "python",
   "nbconvert_exporter": "python",
   "pygments_lexer": "ipython3",
   "version": "3.6.4"
  }
 },
 "nbformat": 4,
 "nbformat_minor": 2
}
