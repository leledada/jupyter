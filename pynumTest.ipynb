{
 "cells": [
  {
   "cell_type": "code",
   "execution_count": 5,
   "metadata": {},
   "outputs": [
    {
     "name": "stdout",
     "output_type": "stream",
     "text": [
      "[1 2 3 4 5]\n",
      "[[1 2 3]\n",
      " [4 5 6]\n",
      " [7 8 9]]\n",
      "(5,)\n",
      "(3, 3)\n",
      "int32\n",
      "int32\n",
      "[[ 1  2  3]\n",
      " [ 4 10  6]\n",
      " [ 7  8  9]]\n"
     ]
    }
   ],
   "source": [
    "# 创建数组\n",
    "import numpy as np \n",
    "a = np.array([1, 2, 3, 4, 5]) \n",
    "b = np.array([[1, 2, 3], [4, 5, 6], [7, 8, 9]])\n",
    "print(a)\n",
    "print(b)\n",
    "b[1,1]=10\n",
    "print(a.shape)\n",
    "print(b.shape)\n",
    "print(a.dtype)\n",
    "print(b.dtype)\n",
    "print(b)\n"
   ]
  },
  {
   "cell_type": "code",
   "execution_count": 9,
   "metadata": {},
   "outputs": [
    {
     "name": "stdout",
     "output_type": "stream",
     "text": [
      "[(b'ZhangFei', 32, 75, 100,  90. ) (b'GuanYu', 24, 85,  96,  88.5)\n",
      " (b'ZhaoYun', 28, 85,  92,  96.5) (b'HuangZhong', 29, 65,  85, 100. )]\n",
      "ages: [32 24 28 29]\n",
      "28.25\n",
      "chineses: [75 85 85 65]\n",
      "77.5\n",
      "maths: [100  96  92  85]\n",
      "93.25\n",
      "englishs: [ 90.   88.5  96.5 100. ]\n",
      "93.75\n"
     ]
    }
   ],
   "source": [
    "# 结构数组\n",
    "import numpy as np\n",
    "'''\n",
    "在 NumPy 中是用 dtype 定义的结构类型，\n",
    "然后在定义数组的时候，用 array 中指定了结构数组的类型 dtype=persontype，这样你就可以自由地使用自定义的 persontype 了。\n",
    "'''\n",
    "persontype = np.dtype({\n",
    "    'names':['name', 'age', 'chinese', 'math', 'english'],\n",
    "    'formats':['S32','i', 'i', 'i', 'f']})\n",
    "peoples = np.array([(\"ZhangFei\",32,75,100, 90),(\"GuanYu\",24,85,96,88.5),\n",
    "       (\"ZhaoYun\",28,85,92,96.5),(\"HuangZhong\",29,65,85,100)],\n",
    "    dtype=persontype)\n",
    "print(peoples)\n",
    "ages = peoples[:]['age']\n",
    "chineses = peoples[:]['chinese']\n",
    "maths = peoples[:]['math']\n",
    "englishs = peoples[:]['english']\n",
    "print('ages:',ages)\n",
    "print(np.mean(ages))\n",
    "print('chineses:',chineses)\n",
    "print(np.mean(chineses))\n",
    "print('maths:',maths)\n",
    "print(np.mean(maths))\n",
    "print('englishs:',englishs)\n",
    "print(np.mean(englishs))"
   ]
  },
  {
   "cell_type": "code",
   "execution_count": 12,
   "metadata": {},
   "outputs": [
    {
     "name": "stdout",
     "output_type": "stream",
     "text": [
      "[1 3 5 7 9]\n",
      "[1. 3. 5. 7. 9.]\n",
      "[ 2.  6. 10. 14. 18.]\n",
      "[0. 0. 0. 0. 0.]\n",
      "[ 1.  9. 25. 49. 81.]\n",
      "[1. 1. 1. 1. 1.]\n",
      "[1.00000000e+00 2.70000000e+01 3.12500000e+03 8.23543000e+05\n",
      " 3.87420489e+08]\n",
      "[0. 0. 0. 0. 0.]\n"
     ]
    }
   ],
   "source": [
    "# NumPy 中很多 ufunc 函数计算速度非常快，因为都是采用 C 语言实现的。\n",
    "\n",
    "x1 = np.arange(1,11,2)\n",
    "x2 = np.linspace(1,9,5)\n",
    "print(x1)\n",
    "print(x2)\n",
    "# 加、减、乘、除、求 n 次方、取余数\n",
    "print(np.add(x1, x2))\n",
    "print(np.subtract(x1, x2))\n",
    "print(np.multiply(x1, x2))\n",
    "print(np.divide(x1, x2))\n",
    "print(np.power(x1, x2))\n",
    "print(np.remainder(x1, x2))"
   ]
  },
  {
   "cell_type": "code",
   "execution_count": 13,
   "metadata": {},
   "outputs": [
    {
     "name": "stdout",
     "output_type": "stream",
     "text": [
      "1\n",
      "[1 2 3]\n",
      "[1 4 7]\n",
      "9\n",
      "[7 8 9]\n",
      "[3 6 9]\n"
     ]
    }
   ],
   "source": [
    "# 计数组 / 矩阵中的最大值函数 amax()，最小值函数 amin()\n",
    "import numpy as np\n",
    "a = np.array([[1,2,3], [4,5,6], [7,8,9]])\n",
    "'''\n",
    "axis = 0 代表对横轴操作，也就是第0轴；\n",
    "axis = 1 代表对纵轴操作，也就是第1轴；\n",
    "\n",
    "1,2,3\n",
    "4,5,6\n",
    "7,8,9\n",
    "amin(a,0) 是延着 axis=0 轴的最小值\n",
    "axis=0 轴是把元素看成了 [1,4,7], [2,5,8], [3,6,9] 三个元素，所以最小值为 [1,2,3]，\n",
    "amin(a,1) 是延着 axis=1 轴的最小值\n",
    "axis=1 轴是把元素看成了 [1,2,3], [4,5,6], [7,8,9] 三个元素，所以最小值为 [1,4,7]。\n",
    "'''\n",
    "print(np.amin(a))\n",
    "print(np.amin(a,0))\n",
    "print(np.amin(a,1))\n",
    "print(np.amax(a))\n",
    "print(np.amax(a,0))\n",
    "print(np.amax(a,1))"
   ]
  },
  {
   "cell_type": "code",
   "execution_count": 15,
   "metadata": {},
   "outputs": [
    {
     "name": "stdout",
     "output_type": "stream",
     "text": [
      "8\n",
      "[6 6 6]\n",
      "[2 2 2]\n"
     ]
    }
   ],
   "source": [
    "# 统计最大值与最小值之差\n",
    "\n",
    "a = np.array([[1,2,3], [4,5,6], [7,8,9]])\n",
    "'''\n",
    "ptp(a,0) 统计的是沿着 axis=0 轴的最大值与最小值之差，\n",
    "即 7-1=6（当然 8-2=6,9-3=6，第三行减去第一行的 ptp 差均为 6）\n",
    "ptp(a,1) 统计的是沿着 axis=1 轴的最大值与最小值之差，\n",
    "即 3-1=2（当然 6-4=2, 9-7=2，即第三列与第一列的 ptp 差均为 2）\n",
    "'''\n",
    "print(np.ptp(a))\n",
    "print(np.ptp(a,0))\n",
    "print(np.ptp(a,1))"
   ]
  },
  {
   "cell_type": "code",
   "execution_count": 18,
   "metadata": {},
   "outputs": [
    {
     "name": "stdout",
     "output_type": "stream",
     "text": [
      "5.0\n",
      "[4. 5. 6.]\n",
      "[2. 5. 8.]\n"
     ]
    }
   ],
   "source": [
    "# 统计数组的百分位数 percentile()\n",
    "a = np.array([[1,2,3], [4,5,6], [7,8,100]])\n",
    "'''\n",
    "percentile() 代表着第 p 个百分位数，这里 p 的取值范围是 0-100，\n",
    "如果 p=0，那么就是求最小值，\n",
    "如果 p=50 就是50%分位数字，中位数\n",
    "如果 p=100 就是求最大值。\n",
    "同样你也可以求得在 axis=0 和 axis=1 两个轴上的 p% 的百分位数。\n",
    "'''\n",
    "print(np.percentile(a, 50))\n",
    "print(np.percentile(a, 50, axis=0))\n",
    "print(np.percentile(a, 50, axis=1))"
   ]
  },
  {
   "cell_type": "code",
   "execution_count": 21,
   "metadata": {},
   "outputs": [
    {
     "name": "stdout",
     "output_type": "stream",
     "text": [
      "5.0\n",
      "[4. 5. 6.]\n",
      "[2. 5. 8.]\n",
      "15.11111111111111\n",
      "[ 4.          5.         36.33333333]\n",
      "[ 2.          5.         38.33333333]\n"
     ]
    }
   ],
   "source": [
    "# 统计数组中的中位数 median()、平均数 mean()\n",
    "a = np.array([[1,2,3], [4,5,6], [7,8,100]])\n",
    "#求中位数\n",
    "print(np.median(a))\n",
    "print(np.median(a, axis=0))\n",
    "print(np.median(a, axis=1))\n",
    "#求平均数\n",
    "print(np.mean(a))\n",
    "print(np.mean(a, axis=0))\n",
    "print(np.mean(a, axis=1))"
   ]
  },
  {
   "cell_type": "code",
   "execution_count": 25,
   "metadata": {},
   "outputs": [
    {
     "name": "stdout",
     "output_type": "stream",
     "text": [
      "2.5\n",
      "3.0\n"
     ]
    }
   ],
   "source": [
    "# 加权平均数\n",
    "'''\n",
    "average() 函数可以求加权平均，加权平均的意思就是每个元素可以设置个权重，\n",
    "默认情况下每个元素的权重是相同的，\n",
    "所以 np.average(a)=(1+2+3+4)/4=2.5，\n",
    "你也可以指定权重数组 wts=[1,2,3,4]，\n",
    "这样加权平均 np.average(a,weights=wts)=(1*1+2*2+3*3+4*4)/(1+2+3+4)=3.0。\n",
    "'''\n",
    "\n",
    "a = np.array([1,2,3,4])\n",
    "wts = np.array([1,2,3,4])\n",
    "print(np.average(a))\n",
    "print(np.average(a,weights=wts))"
   ]
  },
  {
   "cell_type": "code",
   "execution_count": 26,
   "metadata": {},
   "outputs": [
    {
     "name": "stdout",
     "output_type": "stream",
     "text": [
      "1.118033988749895\n",
      "1.25\n"
     ]
    }
   ],
   "source": [
    "# 统计数组中的标准差 std()、方差 var()\n",
    "\n",
    "a = np.array([1,2,3,4])\n",
    "print(np.std(a))\n",
    "print(np.var(a))"
   ]
  },
  {
   "cell_type": "code",
   "execution_count": 30,
   "metadata": {},
   "outputs": [
    {
     "name": "stdout",
     "output_type": "stream",
     "text": [
      "[[2 3 4]\n",
      " [1 2 4]]\n",
      "\n",
      "[1 2 2 3 4 4]\n",
      "[[2 3 1]\n",
      " [4 4 2]]\n",
      "[[2 3 4]\n",
      " [1 2 4]]\n"
     ]
    }
   ],
   "source": [
    "'''\n",
    "排序算法在 NumPy 中实现起来其实非常简单，一条语句就可以搞定。\n",
    "这里你可以使用 sort 函数，sort(a, axis=-1, kind=‘quicksort’, order=None)，\n",
    "默认情况下使用的是快速排序；\n",
    "在 kind 里，可以指定 quicksort、mergesort、heapsort 分别表示快速排序、合并排序、堆排序。\n",
    "同样 axis 默认是 -1，\n",
    "即沿着数组的最后一个轴进行排序，\n",
    "也可以取不同的 axis 轴，或者 axis=None 代表采用扁平化的方式作为一个向量进行排序。\n",
    "另外 order 字段，对于结构化的数组可以指定按照某个字段进行排序。\n",
    "'''\n",
    "a = np.array([[4,3,2],[2,4,1]])\n",
    "print(np.sort(a),end='\\n\\n')\n",
    "print(np.sort(a, axis=None))\n",
    "print(np.sort(a, axis=0))  \n",
    "print(np.sort(a, axis=1))"
   ]
  },
  {
   "cell_type": "code",
   "execution_count": 32,
   "metadata": {},
   "outputs": [
    {
     "data": {
      "text/html": [
       "<img src=\"https://static001.geekbang.org/resource/image/7b/66/7ba74ca7776ac29a5dc94c272d72ff66.jpg\"/>"
      ],
      "text/plain": [
       "<IPython.core.display.Image object>"
      ]
     },
     "execution_count": 32,
     "metadata": {},
     "output_type": "execute_result"
    }
   ],
   "source": [
    "from IPython.display import Image\n",
    "from IPython.core.display import HTML \n",
    "Image(url= \"https://static001.geekbang.org/resource/image/7b/66/7ba74ca7776ac29a5dc94c272d72ff66.jpg\")\n",
    "    "
   ]
  },
  {
   "cell_type": "code",
   "execution_count": null,
   "metadata": {},
   "outputs": [],
   "source": []
  }
 ],
 "metadata": {
  "kernelspec": {
   "display_name": "Python 3",
   "language": "python",
   "name": "python3"
  },
  "language_info": {
   "codemirror_mode": {
    "name": "ipython",
    "version": 3
   },
   "file_extension": ".py",
   "mimetype": "text/x-python",
   "name": "python",
   "nbconvert_exporter": "python",
   "pygments_lexer": "ipython3",
   "version": "3.6.4"
  }
 },
 "nbformat": 4,
 "nbformat_minor": 2
}
