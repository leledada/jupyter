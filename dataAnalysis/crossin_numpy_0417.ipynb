{
 "cells": [
  {
   "cell_type": "code",
   "execution_count": 3,
   "metadata": {},
   "outputs": [
    {
     "data": {
      "text/plain": [
       "array([[0., 1.],\n",
       "       [0., 1.]])"
      ]
     },
     "execution_count": 3,
     "metadata": {},
     "output_type": "execute_result"
    }
   ],
   "source": [
    "'''\n",
    "https://crossincode.com/vip/homework/209/\n",
    "'''\n",
    "import numpy as np\n",
    "\n",
    "# 任务一：用 numpy 创建一个 2 * 2 的二维数组 ndarray，指定元素类型为 float，命名为 arr1\n",
    "# 参考：https://blog.csdn.net/qq_41831288/article/details/89220016\n",
    "\n",
    "arr1 = np.array([range(2),range(2)],dtype=float)\n",
    "arr1\n",
    "\n",
    "# arr1 =  np.zeros((2, 2)) \n",
    "# arr1\n",
    "# t2 = t1.astype(\"bool\")"
   ]
  },
  {
   "cell_type": "code",
   "execution_count": 28,
   "metadata": {},
   "outputs": [
    {
     "name": "stdout",
     "output_type": "stream",
     "text": [
      "全为 0 的 6 * 6 矩阵 arr2:\n",
      "[[0. 0. 0. 0. 0. 0.]\n",
      " [0. 0. 0. 0. 0. 0.]\n",
      " [0. 0. 0. 0. 0. 0.]\n",
      " [0. 0. 0. 0. 0. 0.]\n",
      " [0. 0. 0. 0. 0. 0.]\n",
      " [0. 0. 0. 0. 0. 0.]]\n",
      "\n",
      "全为 1 的 6 * 6 矩阵 arr3:\n",
      "[[1. 1. 1. 1. 1. 1.]\n",
      " [1. 1. 1. 1. 1. 1.]\n",
      " [1. 1. 1. 1. 1. 1.]\n",
      " [1. 1. 1. 1. 1. 1.]\n",
      " [1. 1. 1. 1. 1. 1.]\n",
      " [1. 1. 1. 1. 1. 1.]]\n",
      "\n",
      "6 * 6 的单位矩阵 arr4:\n",
      "[[1. 0. 0. 0. 0. 0.]\n",
      " [0. 1. 0. 0. 0. 0.]\n",
      " [0. 0. 1. 0. 0. 0.]\n",
      " [0. 0. 0. 1. 0. 0.]\n",
      " [0. 0. 0. 0. 1. 0.]\n",
      " [0. 0. 0. 0. 0. 1.]]\n"
     ]
    }
   ],
   "source": [
    "# 任务二： 生成元素全为 0 的 6 * 6 矩阵 arr2；元素全为 1 的 6 * 6 矩阵 arr3；以及 6 * 6 的单位矩阵 arr4（任务提示：单位矩阵对角线元素为 1，阅读参考文章⑥）\n",
    "# 参考： https://blog.csdn.net/qq_39161737/article/details/78814743?depth_1-utm_source=distribute.pc_relevant.none-task-blog-BlogCommendFromBaidu-2&utm_source=distribute.pc_relevant.none-task-blog-BlogCommendFromBaidu-2\n",
    "\n",
    "# zeros(shape)将创建一个用指定形状用0填充的数组。默认的dtype是float64。\n",
    "arr2 = np.zeros((6, 6)) \n",
    "print('全为 0 的 6 * 6 矩阵 arr2:')\n",
    "print(arr2)\n",
    "\n",
    "# ones(shape)将创建一个用1个值填充的数组。它在所有其他方面与zeros相同。\n",
    "arr3 = np.ones((6, 6)) \n",
    "print('\\n全为 1 的 6 * 6 矩阵 arr3:')\n",
    "print(arr3)\n",
    "\n",
    "arr4 = np.eye(6)\n",
    "print('\\n6 * 6 的单位矩阵 arr4:')\n",
    "print(arr4)"
   ]
  },
  {
   "cell_type": "code",
   "execution_count": 32,
   "metadata": {},
   "outputs": [
    {
     "data": {
      "text/plain": [
       "array([0, 2, 4, 6, 8])"
      ]
     },
     "execution_count": 32,
     "metadata": {},
     "output_type": "execute_result"
    }
   ],
   "source": [
    "# 任务3 运用 arange 函数生成生成 [0, 10) 区间内，步长为 2 的整数序列 arr5\n",
    "\n",
    "# 参考：https://zhuanlan.zhihu.com/p/70245148\n",
    "# start , end , step(步长)\n",
    "# range() 中的步长不能为小数，但是numpy.arange() 中的步长可以为小数\n",
    "\n",
    "arr5 = np.arange(0,10,2)\n",
    "arr5"
   ]
  },
  {
   "cell_type": "code",
   "execution_count": 38,
   "metadata": {},
   "outputs": [
    {
     "data": {
      "text/plain": [
       "array([0.        , 1.66666667, 3.33333333, 5.        , 6.66666667,\n",
       "       8.33333333])"
      ]
     },
     "execution_count": 38,
     "metadata": {},
     "output_type": "execute_result"
    }
   ],
   "source": [
    "# 任务4 生成 0~10 间的等差数列 arr6，元素个数为 6（任务提示：等差数列函数为 linspace，阅读参考文章⑧）\n",
    "\n",
    "'''\n",
    "https://blog.csdn.net/shenpengjianke/article/details/29193323?depth_1-utm_source=distribute.pc_relevant.none-task-blog-BlogCommendFromBaidu-6&utm_source=distribute.pc_relevant.none-task-blog-BlogCommendFromBaidu-6\n",
    "'''\n",
    "\n",
    "# linspace  等差数列，参数：起点，终点，个数, endpoint参数默认为True 包含终点\n",
    "arr6 = np.linspace(0,10,6,endpoint=True)\n",
    "arr6\n"
   ]
  },
  {
   "cell_type": "code",
   "execution_count": 52,
   "metadata": {},
   "outputs": [
    {
     "name": "stdout",
     "output_type": "stream",
     "text": [
      "开始的数据 [ 60 548 719 212 559 957 749  90 134 701]\n",
      "最大值的位置： 5\n",
      "替换后的数据 [ 60 548 719 212 559   0 749  90 134 701]\n"
     ]
    }
   ],
   "source": [
    "# 任务5 创建一个长度为 10 的随机数组（每个元素都是整数）并将最大值替换为 0\n",
    "#（任务提示：numpy 随机函数为 random，利用 argmax() 得到数组最大值的位置，然后再将此位置数字利用切片替换，阅读参考文章⑨⑩\n",
    "\n",
    "'''\n",
    "numpy产生随机数 https://blog.csdn.net/jinxiaonian11/article/details/53143141\n",
    "numpy的argmax https://blog.csdn.net/ohonghong/article/details/72772459\n",
    "'''\n",
    "\n",
    "# randint(low[, high, size, dtype])\t产生随机整数\tlow：最小值；high：最大值；size：数据个数\n",
    "arr7 = np.random.randint(0,1000,10)\n",
    "arr7\n",
    "print('开始的数据', arr7)\n",
    "print('最大值的位置：', np.argmax(arr7))\n",
    "arr7[np.argmax(arr7)] = 0\n",
    "print('替换后的数据', arr7)"
   ]
  },
  {
   "cell_type": "code",
   "execution_count": 54,
   "metadata": {},
   "outputs": [
    {
     "name": "stdout",
     "output_type": "stream",
     "text": [
      "12.529964086141668\n",
      "12.529964086141668\n"
     ]
    }
   ],
   "source": [
    "# 任务6： 计算数组 x = np.array([1,2,3,2,3,4,3,4,5,6]) 和数组 y = np.array([7,2,10,2,7,4,9,4,9,8]) 之间的欧式距离\n",
    "'''\n",
    "任务提示：\n",
    "numpy 计算欧式距离有两种方式，一种是 dist = np.sqrt(np.sum(np.square(a - b)))，\n",
    "一种是自带的函数 dist1 = np.linalg.norm(a - b)\n",
    "阅读参考文章\n",
    "https://blog.csdn.net/qq_35531549/article/details/88913724\n",
    "）\n",
    "'''\n",
    "x = np.array([1,2,3,2,3,4,3,4,5,6])\n",
    "y = np.array([7,2,10,2,7,4,9,4,9,8])\n",
    "dist = np.linalg.norm(x - y)\n",
    "print(dist)\n",
    "dist1 = np.sqrt(np.sum(np.square(y - x)))\n",
    "print(dist1)"
   ]
  },
  {
   "cell_type": "code",
   "execution_count": 60,
   "metadata": {},
   "outputs": [
    {
     "name": "stdout",
     "output_type": "stream",
     "text": [
      "1.0125889500131664 38.81247615960171\n"
     ]
    },
    {
     "data": {
      "image/png": "[encoded data removed]",
      "text/plain": [
       "<matplotlib.figure.Figure at 0x2a4427ef048>"
      ]
     },
     "metadata": {},
     "output_type": "display_data"
    }
   ],
   "source": [
    "'''\n",
    "任务7\n",
    "利用 seed 生成一组固定的随机数 np.random.seed(1)，并用此组成模拟的资金价值曲线\n",
    "values = np.random.randn(1000).cumsum()\n",
    "请利用 matplotlib 作出该资金价值曲线图\n",
    "'''\n",
    "\n",
    "import matplotlib.pyplot as plt\n",
    "\n",
    "# 种随机数种子，根据同一种子产生的随机数是相同的\n",
    "np.random.seed(1)\n",
    "values = np.random.randn(1000).cumsum()\n",
    "print(values[1],values[999])\n",
    "plt.plot(range(1000),values)\n",
    "plt.show()\n"
   ]
  },
  {
   "cell_type": "code",
   "execution_count": 63,
   "metadata": {},
   "outputs": [
    {
     "name": "stdout",
     "output_type": "stream",
     "text": [
      "36 -6.220181018259303\n",
      "0 1.6243453636632417\n",
      "4.829346367715472\n",
      "4.829346367715472\n"
     ]
    }
   ],
   "source": [
    "'''\n",
    "任务8\n",
    "计算 任务7 中资金价值的最大回撤\n",
    "提示1：最大回撤是指投资组合在选定的周期内，任一时间点往后推，可能出现资产净值下降的最大幅度。\n",
    "简单举例，例如某年连续开盘日 9 天，净值分别为 x=[1,0.5,5.0,2.5,4.0,3.0,2.5,1,2] 则该段时间最大回撤为（5-1），\n",
    "而不是最高值 5 与最低值 0.5 的差。 \n",
    "\n",
    "提示2：\n",
    "最大回撤计算公式为 max_drawdown = np.max(np.maximum.accumulate(values) - values)，阅读参考文章⑬\n",
    "\n",
    "https://blog.csdn.net/weixin_38997425/article/details/82915386\n",
    "\n",
    "D为某一天的净值，i为某一天，j为i后的某一天，Di为第i天的产品净值，Dj则是Di后面某一天的净值\n",
    "drawdown就是最大回撤率\n",
    "drawdown=max（Di-Dj）/Di，其实就是对每一个净值进行回撤率求值，然后找出最大的。\n",
    "\n",
    "'''\n",
    "\n",
    "def MaxDrawdown(return_list):\n",
    "    '''最大回撤率'''\n",
    "    i = np.argmax((np.maximum.accumulate(return_list) - return_list) / np.maximum.accumulate(return_list))  \n",
    "    print(i,return_list[i],)\n",
    "    if i == 0:\n",
    "        return 0\n",
    "    j = np.argmax(return_list[:i]) \n",
    "    print(j,return_list[j])\n",
    "    return (return_list[j] - return_list[i]) / (return_list[j])\n",
    " \n",
    "\n",
    "print(MaxDrawdown(values))\n",
    "\n",
    "# \n",
    "\n",
    "print(((np.maximum.accumulate(values) - values) / np.maximum.accumulate(values)).max())"
   ]
  },
  {
   "cell_type": "code",
   "execution_count": 74,
   "metadata": {},
   "outputs": [
    {
     "name": "stdout",
     "output_type": "stream",
     "text": [
      "[[0 0 0 0]\n",
      " [0 1 0 0]\n",
      " [1 0 1 0]]\n",
      "--------------\n",
      "[[1 2 0 1]\n",
      " [1 2 2 1]]\n"
     ]
    }
   ],
   "source": [
    "#  草稿 便于理解\n",
    "a = np.array([\n",
    "              [\n",
    "                  [1, 5, 5, 2],\n",
    "                  [9, -6, 2, 8],\n",
    "                  [-3, 7, -9, 1]\n",
    "              ],\n",
    " \n",
    "              [\n",
    "                  [-1, 5, -5, 2],\n",
    "                  [9, 6, 2, 8],\n",
    "                  [3, 7, 9, 1]\n",
    "              ]\n",
    "            ])\n",
    "print(np.argmax(a, axis=0))\n",
    "print('--------------')\n",
    "print(np.argmax(a, axis=1))"
   ]
  },
  {
   "cell_type": "code",
   "execution_count": 72,
   "metadata": {},
   "outputs": [
    {
     "name": "stdout",
     "output_type": "stream",
     "text": [
      "[ 1  2  3 10  6 11]\n",
      "[ 1  3  6 16 22 33]\n",
      "[ 1  2  3 10 10 11]\n",
      "[0.  0.  0.  0.  0.4 0. ]\n"
     ]
    }
   ],
   "source": [
    "#  草稿  便于理解\n",
    "arr99 = np.array([1,2,3,10,6,11])\n",
    "print(arr99)\n",
    "arr100 = arr99.cumsum()\n",
    "print(arr100)\n",
    "print(np.maximum.accumulate(arr99))\n",
    "print((np.maximum.accumulate(arr99) - arr99) / np.maximum.accumulate(arr99))"
   ]
  },
  {
   "cell_type": "code",
   "execution_count": null,
   "metadata": {},
   "outputs": [],
   "source": []
  }
 ],
 "metadata": {
  "kernelspec": {
   "display_name": "Python 3",
   "language": "python",
   "name": "python3"
  },
  "language_info": {
   "codemirror_mode": {
    "name": "ipython",
    "version": 3
   },
   "file_extension": ".py",
   "mimetype": "text/x-python",
   "name": "python",
   "nbconvert_exporter": "python",
   "pygments_lexer": "ipython3",
   "version": "3.6.4"
  }
 },
 "nbformat": 4,
 "nbformat_minor": 2
}
