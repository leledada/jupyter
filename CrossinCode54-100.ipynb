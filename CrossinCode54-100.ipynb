{
 "cells": [
  {
   "cell_type": "code",
   "execution_count": 2,
   "metadata": {},
   "outputs": [
    {
     "name": "stdout",
     "output_type": "stream",
     "text": [
      "净利润:100\n",
      "6级奖金：10.0\n",
      "应发奖金总数10\n"
     ]
    }
   ],
   "source": [
    "'''\n",
    "【问题】企业发放的奖金根据利润提成。\n",
    "利润(I)低于或等于10万元时，奖金可提10%；\n",
    "利润高于10万元，低于20万元时，低于10万元的部分按10%提成，高于10万元的部分，可提成7.5%；\n",
    "20万到40万之间时，高于20万元的部分，可提成5%；\n",
    "40万到60万之间时高于40万元的部分，可提成3%；\n",
    "60万到100万之间时，高于60万元的部分，可提成1.5%，\n",
    "高于100万元时，超过100万元的部分按1%提成，\n",
    "从键盘输入当月利润I，求应发放奖金总数？\n",
    "'''\n",
    "\n",
    "\n",
    "i = int(input('净利润:'))\n",
    "arr = [1000000,600000,400000,200000,100000,0]\n",
    "rat = [0.01,0.015,0.03,0.05,0.075,0.1]\n",
    "r = 0\n",
    "for idx in range(0,6):\n",
    "    if i > arr[idx]:\n",
    "        r +=(i-arr[idx]) * rat[idx]\n",
    "        print('{}级奖金：{}'.format((idx+1),((i-arr[idx]) * rat[idx])))\n",
    "        i = arr[idx]\n",
    "print('应发奖金总数%d'%r)"
   ]
  },
  {
   "cell_type": "code",
   "execution_count": 3,
   "metadata": {},
   "outputs": [
    {
     "name": "stdout",
     "output_type": "stream",
     "text": [
      "1 2 3\n",
      "1 2 4\n",
      "1 3 2\n",
      "1 3 4\n",
      "1 4 2\n",
      "1 4 3\n",
      "2 1 3\n",
      "2 1 4\n",
      "2 3 1\n",
      "2 3 4\n",
      "2 4 1\n",
      "2 4 3\n",
      "3 1 2\n",
      "3 1 4\n",
      "3 2 1\n",
      "3 2 4\n",
      "3 4 1\n",
      "3 4 2\n",
      "4 1 2\n",
      "4 1 3\n",
      "4 2 1\n",
      "4 2 3\n",
      "4 3 1\n",
      "4 3 2\n",
      "共 24 种组合\n"
     ]
    }
   ],
   "source": [
    "'''\n",
    "Q055\n",
    "问题】有四个数字：1、2、3、4，能组成多少个互不相同且无重复数字的三位数？各是多少？\n",
    "'''\n",
    "count = 0 \n",
    "for i in range(1,5):\n",
    "    for j in range(1,5):\n",
    "        for k in range(1,5):\n",
    "            if( i != k ) and (i != j) and (j != k):\n",
    "                count+=1\n",
    "                print(i,j,k)\n",
    "print('共 %d 种组合'%count)"
   ]
  },
  {
   "cell_type": "code",
   "execution_count": 5,
   "metadata": {},
   "outputs": [
    {
     "name": "stdout",
     "output_type": "stream",
     "text": [
      "123 | 124 | 132\n",
      "134 | 142 | 143\n",
      "213 | 214 | 231\n",
      "234 | 241 | 243\n",
      "312 | 314 | 321\n",
      "324 | 341 | 342\n",
      "412 | 413 | 421\n",
      "423 | 431 | 432\n",
      "共24种组合\n"
     ]
    }
   ],
   "source": [
    "i = 0\n",
    "for x in range(1,5):\n",
    "    for y in range(1,5):\n",
    "        for z in range(1,5):\n",
    "                if (x!=y) and (y!=z) and (z!=x):\n",
    "                    i += 1\n",
    "                    if i%3:\n",
    "                        print(\"%d%d%d\" % (x, y, z), end=\" | \")\n",
    "                    else:\n",
    "                        print(\"%d%d%d\" % (x, y, z))\n",
    "print('共%d种组合'%i)"
   ]
  },
  {
   "cell_type": "code",
   "execution_count": 10,
   "metadata": {},
   "outputs": [
    {
     "name": "stdout",
     "output_type": "stream",
     "text": [
      "14179342914\n",
      "17948354190\n",
      "14390219631\n",
      "13953052028\n",
      "13647106676\n",
      "17674132698\n",
      "13453253449\n",
      "13907045729\n",
      "18742827216\n",
      "13392484895\n",
      "17839215442\n",
      "17434781847\n",
      "13294540810\n",
      "18930879859\n",
      "18847266145\n",
      "14826449930\n",
      "18356360744\n",
      "15170845346\n",
      "18300346665\n",
      "18771422096\n",
      "14824857541\n",
      "13127747365\n",
      "14334955843\n",
      "15664321440\n",
      "13426847792\n",
      "13599267359\n",
      "17529089991\n",
      "18385482086\n",
      "18918282290\n",
      "15434643181\n"
     ]
    }
   ],
   "source": [
    "'''\n",
    "生成随机手机号\n",
    "'''\n",
    "import random\n",
    "\n",
    "\n",
    "def create_phone():\n",
    "    # 第二位数字\n",
    "    second = [3, 4, 5, 7, 8][random.randint(0, 4)]\n",
    "\n",
    "    # 第三位数字\n",
    "    third = {\n",
    "        3: random.randint(0, 9),\n",
    "        4: [5, 7, 9][random.randint(0, 2)],\n",
    "        5: [i for i in range(10) if i != 4][random.randint(0, 8)],\n",
    "        7: [i for i in range(10) if i not in [4, 9]][random.randint(0, 7)],\n",
    "        8: random.randint(0, 9),\n",
    "    }[second]\n",
    "\n",
    "    # 最后八位数字\n",
    "#     suffix = random.randint(9999999,100000000)\n",
    "    # 拼接手机号\n",
    "#     return \"1{}{}{}\".format(second, third, suffix)\n",
    "    # 后九位数字\n",
    "    suffix = random.randint(99999999,1000000000)\n",
    "    return \"1{}{}\".format(second,suffix)\n",
    "\n",
    "\n",
    "# 生成30个手机号\n",
    "# phone = create_phone()\n",
    "for i in range(30):\n",
    "    print(create_phone())\n"
   ]
  },
  {
   "cell_type": "code",
   "execution_count": null,
   "metadata": {},
   "outputs": [],
   "source": []
  }
 ],
 "metadata": {
  "kernelspec": {
   "display_name": "Python 3",
   "language": "python",
   "name": "python3"
  },
  "language_info": {
   "codemirror_mode": {
    "name": "ipython",
    "version": 3
   },
   "file_extension": ".py",
   "mimetype": "text/x-python",
   "name": "python",
   "nbconvert_exporter": "python",
   "pygments_lexer": "ipython3",
   "version": "3.6.4"
  }
 },
 "nbformat": 4,
 "nbformat_minor": 2
}
