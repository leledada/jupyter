{
 "cells": [
  {
   "cell_type": "code",
   "execution_count": null,
   "metadata": {},
   "outputs": [],
   "source": [
    "# 欢迎扫码关注本人微信公众号，一起成长，谢谢咯\n",
    "![title](./qrcode.jpg)\n"
   ]
  },
  {
   "cell_type": "code",
   "execution_count": null,
   "metadata": {},
   "outputs": [],
   "source": [
    "# Q001. Python Hello World 实例\n",
    "# 【问题】请使用 python3 输出 'Hello World!'\n",
    "print('Hello World')"
   ]
  },
  {
   "cell_type": "code",
   "execution_count": 10,
   "metadata": {},
   "outputs": [
    {
     "name": "stdout",
     "output_type": "stream",
     "text": [
      "one\n",
      "two\n",
      "three\n",
      "totally cost 0.0\n",
      "\n",
      "------\n",
      "one\n",
      "two\n",
      "three\n",
      "totally cost1 0.0009944438934326172\n"
     ]
    }
   ],
   "source": [
    "# Q002.【问题】按顺序输出列表 ['one', 'two', 'three'] 的值。\n",
    "import time \n",
    "time_start=time.time() \n",
    "for i in  ['one', 'two', 'three']:\n",
    "    print (i)\n",
    "time_end=time.time() \n",
    "print('totally cost',time_end-time_start)\n",
    "print('\\n------')\n",
    "\n",
    "\n",
    "\n",
    "time_start1=time.time() \n",
    "a =  ['one', 'two', 'three']\n",
    "for j in range(3):\n",
    "    print(a[j])\n",
    "time_end1=time.time() \n",
    "print('totally cost1',time_end1-time_start1)"
   ]
  },
  {
   "cell_type": "code",
   "execution_count": 21,
   "metadata": {},
   "outputs": [
    {
     "name": "stdout",
     "output_type": "stream",
     "text": [
      "three\n",
      "two\n",
      "one\n",
      "totally cost 0.9970703125\n",
      "\n",
      "------\n",
      "three\n",
      "two\n",
      "one\n",
      "totally cost 0.0\n",
      "\n",
      "------\n",
      "three\n",
      "two\n",
      "one\n",
      "totally cost 0.0\n"
     ]
    }
   ],
   "source": [
    "##  Q003【问题】按相反的顺序输出列表 ['one', 'two', 'three'] 的值。\n",
    "# 用reverse\n",
    "# 注意：q3a.reverse() 改变的是原始列表q3a，返回值为空\n",
    "import time \n",
    "time_start3=time.time() * 1000\n",
    "q3a=['one', 'two', 'three']\n",
    "q3a.reverse()\n",
    "for i in  q3a:\n",
    "    print (i)\n",
    "time_end3=time.time() * 1000\n",
    "print('totally cost',time_end3-time_start3)\n",
    "print('\\n------')\n",
    "\n",
    "# 用切片\n",
    "time_start3b=time.time() * 1000\n",
    "q3b=['one', 'two', 'three']\n",
    "q3br = q3b[::-1]\n",
    "for i in q3br:\n",
    "    print(i)\n",
    "time_end3b=time.time() * 1000\n",
    "print('totally cost',time_end3b-time_start3b)\n",
    "print('\\n------')\n",
    "\n",
    "# 用range()\n",
    "ts_3c =time.time() * 1000\n",
    "q3c=['one', 'two', 'three']\n",
    "for i in range(-1,-4,-1):\n",
    "    print(q3c[i])\n",
    "te_3c=time.time() * 1000\n",
    "print('totally cost',te_3c-ts_3c)"
   ]
  },
  {
   "cell_type": "code",
   "execution_count": 23,
   "metadata": {},
   "outputs": [
    {
     "name": "stdout",
     "output_type": "stream",
     "text": [
      "列表长度 3\n"
     ]
    }
   ],
   "source": [
    "## Q004 【问题】输出列表 ['one', 'two', 'three'] 的长度。\n",
    "q4l = ['one', 'two', 'three']\n",
    "\n",
    "print('列表长度 %s'%len(q4l))"
   ]
  },
  {
   "cell_type": "code",
   "execution_count": 4,
   "metadata": {},
   "outputs": [
    {
     "name": "stdout",
     "output_type": "stream",
     "text": [
      "字符串长度:24\n"
     ]
    }
   ],
   "source": [
    "## Q005【问题】计算'Welcome to Crossin的编程教室!'长度。\n",
    "print('字符串长度:%s'%len('Welcome to Crossin的编程教室!'))\n"
   ]
  },
  {
   "cell_type": "code",
   "execution_count": 7,
   "metadata": {},
   "outputs": [
    {
     "name": "stdout",
     "output_type": "stream",
     "text": [
      "请输入字符串ded\n",
      "输入的字符串长度:3\n"
     ]
    }
   ],
   "source": [
    "## Q006【问题】从控制台输入一段字符，并判断长度\n",
    "print('输入的字符串长度:%s'%len(input(\"请输入字符串\")))"
   ]
  },
  {
   "cell_type": "code",
   "execution_count": null,
   "metadata": {},
   "outputs": [],
   "source": [
    "### Q007 【问题】读取7个数（1—50）的整数值，每读取一个值，程序打印出该值个数的*。\n",
    "def getInput():\n",
    "    while 1:\n",
    "        try:\n",
    "            num = int(input('input a number:')) # 可以是多行代码\n",
    "            break\n",
    "        except:\n",
    "            continue\n",
    "    return num\n",
    "\n",
    "\n",
    "print(getInput())"
   ]
  },
  {
   "cell_type": "code",
   "execution_count": 1,
   "metadata": {},
   "outputs": [
    {
     "name": "stdout",
     "output_type": "stream",
     "text": [
      "*******************\n",
      "*************************************************\n",
      "**********\n",
      "*\n"
     ]
    }
   ],
   "source": [
    "## Q008【问题】按列表数据 [19,49,10,1],依次打印相同数量的 *\n",
    "list = [19,49,10,1]\n",
    "for i in list:\n",
    "    print(i*'*')"
   ]
  },
  {
   "cell_type": "code",
   "execution_count": 2,
   "metadata": {},
   "outputs": [
    {
     "name": "stdout",
     "output_type": "stream",
     "text": [
      "*\n",
      "**\n",
      "***\n",
      "****\n",
      "*****\n"
     ]
    }
   ],
   "source": [
    "## Q009\n",
    "'''\n",
    "【问题】请使用 * 打印出如下\n",
    "*\n",
    "**\n",
    "***\n",
    "****\n",
    "*****\n",
    "'''\n",
    "for i in range(5):\n",
    "    j = 0\n",
    "    while j <= i:\n",
    "        print(\"*\",end='')\n",
    "        j+=1\n",
    "    print(\"\")"
   ]
  },
  {
   "cell_type": "code",
   "execution_count": 3,
   "metadata": {},
   "outputs": [
    {
     "name": "stdout",
     "output_type": "stream",
     "text": [
      "* * * * * \n",
      " * * * * \n",
      "  * * * \n",
      "   * * \n",
      "    * \n"
     ]
    }
   ],
   "source": [
    "# Q010\n",
    "'''\n",
    "【问题】请使用 * 打印出如下\n",
    "* * * * *\n",
    " * * * *\n",
    "  * * *\n",
    "   * *\n",
    "    *\n",
    "'''\n",
    "for i in range(1,6):\n",
    "    for k in range(i-1):\n",
    "        print(end=\" \")\n",
    "    for j in range(6-i):\n",
    "        print(\"*\",end=\" \")\n",
    "    print()"
   ]
  },
  {
   "cell_type": "code",
   "execution_count": 4,
   "metadata": {
    "scrolled": true
   },
   "outputs": [
    {
     "name": "stdout",
     "output_type": "stream",
     "text": [
      "* * * * * \n",
      "*     * \n",
      "*   * \n",
      "* * \n",
      "* \n"
     ]
    }
   ],
   "source": [
    "# Q011\n",
    "'''\n",
    "\n",
    "【问题】请使用 * 打印出如下\n",
    "* * * * *\n",
    "*     *\n",
    "*   *\n",
    "* *\n",
    "*\n",
    "\n",
    "'''\n",
    "\n",
    "for i in range(1,6):\n",
    "    for j in range(i+1,7):\n",
    "        if j > 1+i and j <6 and i >1:\n",
    "            print(\" \" ,end=\" \")\n",
    "        else:\n",
    "            print(\"*\",end=\" \")\n",
    "    print()"
   ]
  },
  {
   "cell_type": "code",
   "execution_count": 5,
   "metadata": {},
   "outputs": [
    {
     "name": "stdout",
     "output_type": "stream",
     "text": [
      "integer:\n",
      "1\n",
      "integer:\n",
      "2\n",
      "integer:\n",
      "3\n",
      "[1, 2, 3]\n"
     ]
    }
   ],
   "source": [
    "# @012\n",
    "'''\n",
    "【问题】输入3个整数a,b,c，按大小顺序输出。\n",
    "'''\n",
    "list = []\n",
    "for i in range(3):\n",
    "    x = int(input('integer:\\n'))\n",
    "    list.append(x)\n",
    "list.sort()\n",
    "print(list)"
   ]
  },
  {
   "cell_type": "code",
   "execution_count": 6,
   "metadata": {},
   "outputs": [
    {
     "name": "stdout",
     "output_type": "stream",
     "text": [
      "请输入数字1\n",
      "请输入数字2\n",
      "请输入数字4\n",
      "请输入数字6\n",
      "[2, 4, 6]\n"
     ]
    }
   ],
   "source": [
    "'''\n",
    " Q013\n",
    "【问题】输入数字，判断是否为偶数，是则加入列表，列表满三个元素则程序退出\n",
    "'''\n",
    "\n",
    "list = []\n",
    "while True:\n",
    "    a = input('请输入数字')\n",
    "    if a.isdigit() and int(a) % 2 ==0:\n",
    "        list.append(int(a))\n",
    "        if len(list) >= 3:\n",
    "            print(list)\n",
    "            break "
   ]
  },
  {
   "cell_type": "code",
   "execution_count": 8,
   "metadata": {},
   "outputs": [
    {
     "name": "stdout",
     "output_type": "stream",
     "text": [
      "请输入数字3\n",
      "请输入数字4\n",
      "请输入数字6\n",
      "请输入数字7\n",
      "请输入数字8\n",
      "[4, 6, 8]\n"
     ]
    }
   ],
   "source": [
    "'''\n",
    "Q014\n",
    "【问题】输入整数，判断是否为偶数，是则加入列表，列表满三个元素则程序退出并按从小到大顺序输出。\n",
    "'''\n",
    "list = []\n",
    "while True:\n",
    "    a = input('请输入数字')\n",
    "    if a.isdigit() and int(a) % 2 ==0:\n",
    "        list.append(int(a))\n",
    "        if len(list) >= 3:\n",
    "            new_list = sorted(list)\n",
    "            print(new_list)\n",
    "            break "
   ]
  },
  {
   "cell_type": "code",
   "execution_count": 9,
   "metadata": {},
   "outputs": [
    {
     "name": "stdout",
     "output_type": "stream",
     "text": [
      "5050\n"
     ]
    }
   ],
   "source": [
    "'''\n",
    "Q15\n",
    "【问题】统计 1 到 100 之和。\n",
    "'''\n",
    "ret = 0\n",
    "for i in range(1,101):\n",
    "    ret += i\n",
    "print(ret)"
   ]
  },
  {
   "cell_type": "code",
   "execution_count": 10,
   "metadata": {},
   "outputs": [
    {
     "name": "stdout",
     "output_type": "stream",
     "text": [
      "2550\n"
     ]
    }
   ],
   "source": [
    "'''\n",
    "Q016\n",
    "【问题】统计 1 到 100 偶数之和。\n",
    "'''\n",
    "ret = 0\n",
    "for i in range(1,101):\n",
    "    if i % 2 == 0:\n",
    "        ret += i\n",
    "print( ret)"
   ]
  },
  {
   "cell_type": "code",
   "execution_count": 11,
   "metadata": {},
   "outputs": [
    {
     "name": "stdout",
     "output_type": "stream",
     "text": [
      "2500\n"
     ]
    }
   ],
   "source": [
    "'''\n",
    "Q017\n",
    "统计 1 到 100 奇数之和。\n",
    "'''\n",
    "ret = 0\n",
    "for i in range(1,101):\n",
    "    if i % 2 == 1:\n",
    "        ret += i\n",
    "print( ret)"
   ]
  },
  {
   "cell_type": "code",
   "execution_count": 12,
   "metadata": {},
   "outputs": [
    {
     "name": "stdout",
     "output_type": "stream",
     "text": [
      "1683\n"
     ]
    }
   ],
   "source": [
    "'''\n",
    "Q018\n",
    "统计 1 到 100 能被三整除数之和。\n",
    "'''\n",
    "ret = 0\n",
    "for i in range(1,101):\n",
    "    if i % 3 == 0:\n",
    "        ret += i\n",
    "print(ret)"
   ]
  },
  {
   "cell_type": "code",
   "execution_count": 13,
   "metadata": {},
   "outputs": [
    {
     "name": "stdout",
     "output_type": "stream",
     "text": [
      "5050.0\n"
     ]
    }
   ],
   "source": [
    "'''\n",
    "Q019\n",
    "【问题】利用高斯算法统计 1 到 100 之和\n",
    "以首项加末项乘以项数除以2用来计算“1+2+3+4+5+···+（n-1）+n”的结果。\n",
    "这样的算法被称为高斯算法。\n",
    "'''\n",
    "print((1+100) * 100 / 2)"
   ]
  },
  {
   "cell_type": "code",
   "execution_count": 16,
   "metadata": {},
   "outputs": [
    {
     "name": "stdout",
     "output_type": "stream",
     "text": [
      "请输入一个数字：5\n",
      "运算结果为: 25\n",
      "Bye, 运算结果小于50，退出\n"
     ]
    }
   ],
   "source": [
    "'''\n",
    "Q020\n",
    "【问题】输入数字，如果平方运算后小于 50 则退出。\n",
    "'''\n",
    "while True:\n",
    "    num = int(input('请输入一个数字：'))\n",
    "    print('运算结果为: %d' % (num * num)) \n",
    "    if num * num <= 50:\n",
    "        print('Bye, 运算结果小于50，退出')\n",
    "        break"
   ]
  },
  {
   "cell_type": "code",
   "execution_count": 19,
   "metadata": {},
   "outputs": [
    {
     "name": "stdout",
     "output_type": "stream",
     "text": [
      "请输入7及位以上数字:\n",
      "431421467\n",
      "输入 431421467，\t输出 1421。\n"
     ]
    }
   ],
   "source": [
    "'''\n",
    "Q021\n",
    "【问题】取一个整数a从右端开始的4〜7位，如 431421467，输出 1421。\n",
    "'''\n",
    "a = input('请输入7及位以上数字:\\n')\n",
    "if a.isdigit() and len(a) >= 4:\n",
    "    print('输入 %s，\\t输出 %s。' %(a,a[-7:-3]))"
   ]
  },
  {
   "cell_type": "code",
   "execution_count": 20,
   "metadata": {},
   "outputs": [
    {
     "name": "stdout",
     "output_type": "stream",
     "text": [
      "look\n"
     ]
    }
   ],
   "source": [
    "'''\n",
    "Q022\n",
    "【问题】print('look') 暂停一秒输出。 \n",
    "'''\n",
    "import time\n",
    "if __name__ == '__main__':\n",
    "    time.sleep(1)\n",
    "    print('look')\n",
    "    "
   ]
  },
  {
   "cell_type": "code",
   "execution_count": 22,
   "metadata": {},
   "outputs": [
    {
     "name": "stdout",
     "output_type": "stream",
     "text": [
      "请输入任意字符abbcd\n",
      "字符 abbcd 中含 2 个 \"b\".\n"
     ]
    }
   ],
   "source": [
    "'''\n",
    "Q023\n",
    "【问题】从控制台输入一段字符，统计字符'b'出现次数\n",
    "'''\n",
    "str = input('请输入任意字符')\n",
    "count = 0\n",
    "for i in str:\n",
    "    if 'b' == i:\n",
    "        count += 1\n",
    "print('字符 %s 中含 %d 个 \"b\".' % (str, count))"
   ]
  },
  {
   "cell_type": "code",
   "execution_count": 23,
   "metadata": {},
   "outputs": [
    {
     "name": "stdout",
     "output_type": "stream",
     "text": [
      "输入一段字符\n",
      "cross\n",
      "字符：c, 出现次数：1。\n",
      "字符：r, 出现次数：1。\n",
      "字符：o, 出现次数：1。\n",
      "字符：s, 出现次数：2。\n"
     ]
    }
   ],
   "source": [
    "'''\n",
    "Q024\n",
    "【问题】从控制台输入一段字符，统计各字符出现次数\n",
    "\n",
    "参考示例：\n",
    "\n",
    "输入：\n",
    "\n",
    "Cross\n",
    "\n",
    "输出：\n",
    "\n",
    "字符：C, 出现次数：1。\n",
    "\n",
    "字符：r, 出现次数：1。\n",
    "\n",
    "字符：o, 出现次数：1。\n",
    "\n",
    "字符：s, 出现次数：2。\n",
    "'''\n",
    "if __name__ == '__main__':\n",
    "    a = input('输入一段字符\\n')\n",
    "    z = {}\n",
    "    for i in a:\n",
    "        # dict方法，没拿到值，就返回默认值0\n",
    "        z[i] = z.get(i, 0) + 1\n",
    "    for i in z:\n",
    "        print('字符：%s, 出现次数：%s。' % (i, z[i]))"
   ]
  },
  {
   "cell_type": "code",
   "execution_count": 25,
   "metadata": {},
   "outputs": [
    {
     "name": "stdout",
     "output_type": "stream",
     "text": [
      "请输入一个数字: 1\n",
      "1 不是质数/素数\n"
     ]
    }
   ],
   "source": [
    "'''\n",
    "Q025\n",
    "【问题】判断输入数字是否为质数\n",
    "【分析】一个大于1的自然数，除了1和它本身外，不能被其他自然数（质数）整除（2, 3, 5, 7等），换句话说就是该数除了1和它本身以外不再有其他的因数.\n",
    "'''\n",
    "\n",
    "import math\n",
    "num = int(input(\"请输入一个数字: \"))\n",
    "# 质数大于 1 ，且只能被1和他自己整除\n",
    "if num > 1:\n",
    "    for i in range(2, int(math.sqrt(num))+1):\n",
    "        if (num % i) == 0:\n",
    "            print(num, \"不是质数/素数\")\n",
    "            break\n",
    "    else:\n",
    "        print(num, \"是质数/素数\")\n",
    "else:\n",
    "    print(num, \"不是质数/素数\")"
   ]
  },
  {
   "cell_type": "code",
   "execution_count": 26,
   "metadata": {},
   "outputs": [
    {
     "name": "stdout",
     "output_type": "stream",
     "text": [
      "1060\n"
     ]
    }
   ],
   "source": [
    "'''\n",
    "Q026\n",
    "【问题】统计1 到 100 内质数之和\n",
    "'''\n",
    "\n",
    "import math\n",
    "def is_prime(num):\n",
    "    if num > 1:\n",
    "        for i in range(2, int(math.sqrt(num)) + 1):\n",
    "            if (num % i) == 0:\n",
    "                return False\n",
    "                # break\n",
    "        else:\n",
    "            return True\n",
    "    else:\n",
    "        return False\n",
    "\n",
    "\n",
    "\n",
    "if __name__ == '__main__':\n",
    "    sum1 = 0\n",
    "    for i in range(1, 101):\n",
    "        if is_prime(i):\n",
    "            sum1 += i\n",
    "    print(sum1)"
   ]
  },
  {
   "cell_type": "code",
   "execution_count": 1,
   "metadata": {},
   "outputs": [
    {
     "name": "stdout",
     "output_type": "stream",
     "text": [
      "请输入一个年份，让我判断一下是不是闰年： a\n",
      "格式错误\n",
      "请输入一个年份，让我判断一下是不是闰年： 32\n",
      "32是闰年\n"
     ]
    }
   ],
   "source": [
    "'''\n",
    "Q027\n",
    "【问题】判断闰年\n",
    "【分析】百年除以400，非百年除以4，能除尽则为闰年\n",
    "'''\n",
    "# 没有重复造轮子，就用了这个。-_-!!!\n",
    "import calendar\n",
    "\n",
    "\n",
    "def get_year():\n",
    "    while True:\n",
    "        year = input(\"请输入一个年份，让我判断一下是不是闰年： \")\n",
    "        if year.isdigit():\n",
    "            return int(year)\n",
    "        else:\n",
    "            print('格式错误')\n",
    "\n",
    "if __name__ == '__main__':\n",
    "    year = get_year()\n",
    "    check_year = calendar.isleap(int(year))\n",
    "    if check_year:\n",
    "        print('{0}是闰年'.format(year))\n",
    "    else:\n",
    "        print('{0}不是闰年'.format(year))\n"
   ]
  },
  {
   "cell_type": "code",
   "execution_count": 2,
   "metadata": {},
   "outputs": [
    {
     "name": "stdout",
     "output_type": "stream",
     "text": [
      "输入一个年份: 120\n",
      "120 是闰年\n"
     ]
    }
   ],
   "source": [
    "year = int(input(\"输入一个年份: \"))\n",
    "if (year % 4) == 0:\n",
    "    if (year % 100) == 0:\n",
    "        if (year % 400) == 0:\n",
    "            print(\"{0} 是闰年\".format(year))   # 整百年能被400整除的是闰年\n",
    "        else:\n",
    "            print(\"{0} 不是闰年\".format(year))\n",
    "    else:\n",
    "        print(\"{0} 是闰年\".format(year))       # 非整百年能被4整除的为闰年\n",
    "else:\n",
    "    print(\"{0} 不是闰年\".format(year))"
   ]
  },
  {
   "cell_type": "code",
   "execution_count": 1,
   "metadata": {},
   "outputs": [
    {
     "name": "stdout",
     "output_type": "stream",
     "text": [
      "请输入一个年份，让我判断一下是不是闰年： 2009\n",
      "2009不是闰年，二月份28天\n"
     ]
    }
   ],
   "source": [
    "'''\n",
    "Q028\n",
    "根据输入年份判断二月的天数\n",
    "'''\n",
    "import calendar\n",
    "\n",
    "def get_year():\n",
    "    while True:\n",
    "        year = input(\"请输入一个年份，让我判断一下是不是闰年： \")\n",
    "        if year.isdigit():\n",
    "            return int(year)\n",
    "        else:\n",
    "            print('格式错误')\n",
    "\n",
    "if __name__ == '__main__':\n",
    "    year = get_year()\n",
    "    check_year = calendar.isleap(int(year))\n",
    "    if check_year:\n",
    "        print('{0}是闰年,二月份29天'.format(year))\n",
    "    else:\n",
    "        print('{0}不是闰年，二月份28天'.format(year))\n"
   ]
  },
  {
   "cell_type": "code",
   "execution_count": 2,
   "metadata": {},
   "outputs": [
    {
     "name": "stdout",
     "output_type": "stream",
     "text": [
      "1004是闰年\n",
      "1008是闰年\n",
      "1012是闰年\n",
      "1016是闰年\n",
      "1020是闰年\n",
      "1024是闰年\n",
      "1028是闰年\n",
      "1032是闰年\n",
      "1036是闰年\n",
      "1040是闰年\n",
      "1044是闰年\n",
      "1048是闰年\n",
      "1052是闰年\n",
      "1056是闰年\n",
      "1060是闰年\n",
      "1064是闰年\n",
      "1068是闰年\n",
      "1072是闰年\n",
      "1076是闰年\n",
      "1080是闰年\n",
      "1084是闰年\n",
      "1088是闰年\n",
      "1092是闰年\n",
      "1096是闰年\n",
      "1104是闰年\n",
      "1108是闰年\n",
      "1112是闰年\n",
      "1116是闰年\n",
      "1120是闰年\n",
      "1124是闰年\n",
      "1128是闰年\n",
      "1132是闰年\n",
      "1136是闰年\n",
      "1140是闰年\n",
      "1144是闰年\n",
      "1148是闰年\n",
      "1152是闰年\n",
      "1156是闰年\n",
      "1160是闰年\n",
      "1164是闰年\n",
      "1168是闰年\n",
      "1172是闰年\n",
      "1176是闰年\n",
      "1180是闰年\n",
      "1184是闰年\n",
      "1188是闰年\n",
      "1192是闰年\n",
      "1196是闰年\n",
      "1200是闰年\n",
      "1204是闰年\n",
      "1208是闰年\n",
      "1212是闰年\n",
      "1216是闰年\n",
      "1220是闰年\n",
      "1224是闰年\n",
      "1228是闰年\n",
      "1232是闰年\n",
      "1236是闰年\n",
      "1240是闰年\n",
      "1244是闰年\n",
      "1248是闰年\n",
      "1252是闰年\n",
      "1256是闰年\n",
      "1260是闰年\n",
      "1264是闰年\n",
      "1268是闰年\n",
      "1272是闰年\n",
      "1276是闰年\n",
      "1280是闰年\n",
      "1284是闰年\n",
      "1288是闰年\n",
      "1292是闰年\n",
      "1296是闰年\n",
      "1304是闰年\n",
      "1308是闰年\n",
      "1312是闰年\n",
      "1316是闰年\n",
      "1320是闰年\n",
      "1324是闰年\n",
      "1328是闰年\n",
      "1332是闰年\n",
      "1336是闰年\n",
      "1340是闰年\n",
      "1344是闰年\n",
      "1348是闰年\n",
      "1352是闰年\n",
      "1356是闰年\n",
      "1360是闰年\n",
      "1364是闰年\n",
      "1368是闰年\n",
      "1372是闰年\n",
      "1376是闰年\n",
      "1380是闰年\n",
      "1384是闰年\n",
      "1388是闰年\n",
      "1392是闰年\n",
      "1396是闰年\n",
      "1404是闰年\n",
      "1408是闰年\n",
      "1412是闰年\n",
      "1416是闰年\n",
      "1420是闰年\n",
      "1424是闰年\n",
      "1428是闰年\n",
      "1432是闰年\n",
      "1436是闰年\n",
      "1440是闰年\n",
      "1444是闰年\n",
      "1448是闰年\n",
      "1452是闰年\n",
      "1456是闰年\n",
      "1460是闰年\n",
      "1464是闰年\n",
      "1468是闰年\n",
      "1472是闰年\n",
      "1476是闰年\n",
      "1480是闰年\n",
      "1484是闰年\n",
      "1488是闰年\n",
      "1492是闰年\n",
      "1496是闰年\n",
      "1504是闰年\n",
      "1508是闰年\n",
      "1512是闰年\n",
      "1516是闰年\n",
      "1520是闰年\n",
      "1524是闰年\n",
      "1528是闰年\n",
      "1532是闰年\n",
      "1536是闰年\n",
      "1540是闰年\n",
      "1544是闰年\n",
      "1548是闰年\n",
      "1552是闰年\n",
      "1556是闰年\n",
      "1560是闰年\n",
      "1564是闰年\n",
      "1568是闰年\n",
      "1572是闰年\n",
      "1576是闰年\n",
      "1580是闰年\n",
      "1584是闰年\n",
      "1588是闰年\n",
      "1592是闰年\n",
      "1596是闰年\n",
      "1600是闰年\n",
      "1604是闰年\n",
      "1608是闰年\n",
      "1612是闰年\n",
      "1616是闰年\n",
      "1620是闰年\n",
      "1624是闰年\n",
      "1628是闰年\n",
      "1632是闰年\n",
      "1636是闰年\n",
      "1640是闰年\n",
      "1644是闰年\n",
      "1648是闰年\n",
      "1652是闰年\n",
      "1656是闰年\n",
      "1660是闰年\n",
      "1664是闰年\n",
      "1668是闰年\n",
      "1672是闰年\n",
      "1676是闰年\n",
      "1680是闰年\n",
      "1684是闰年\n",
      "1688是闰年\n",
      "1692是闰年\n",
      "1696是闰年\n",
      "1704是闰年\n",
      "1708是闰年\n",
      "1712是闰年\n",
      "1716是闰年\n",
      "1720是闰年\n",
      "1724是闰年\n",
      "1728是闰年\n",
      "1732是闰年\n",
      "1736是闰年\n",
      "1740是闰年\n",
      "1744是闰年\n",
      "1748是闰年\n",
      "1752是闰年\n",
      "1756是闰年\n",
      "1760是闰年\n",
      "1764是闰年\n",
      "1768是闰年\n",
      "1772是闰年\n",
      "1776是闰年\n",
      "1780是闰年\n",
      "1784是闰年\n",
      "1788是闰年\n",
      "1792是闰年\n",
      "1796是闰年\n",
      "1804是闰年\n",
      "1808是闰年\n",
      "1812是闰年\n",
      "1816是闰年\n",
      "1820是闰年\n",
      "1824是闰年\n",
      "1828是闰年\n",
      "1832是闰年\n",
      "1836是闰年\n",
      "1840是闰年\n",
      "1844是闰年\n",
      "1848是闰年\n",
      "1852是闰年\n",
      "1856是闰年\n",
      "1860是闰年\n",
      "1864是闰年\n",
      "1868是闰年\n",
      "1872是闰年\n",
      "1876是闰年\n",
      "1880是闰年\n",
      "1884是闰年\n",
      "1888是闰年\n",
      "1892是闰年\n",
      "1896是闰年\n",
      "1904是闰年\n",
      "1908是闰年\n",
      "1912是闰年\n",
      "1916是闰年\n",
      "1920是闰年\n",
      "1924是闰年\n",
      "1928是闰年\n",
      "1932是闰年\n",
      "1936是闰年\n",
      "1940是闰年\n",
      "1944是闰年\n",
      "1948是闰年\n",
      "1952是闰年\n",
      "1956是闰年\n",
      "1960是闰年\n",
      "1964是闰年\n",
      "1968是闰年\n",
      "1972是闰年\n",
      "1976是闰年\n",
      "1980是闰年\n",
      "1984是闰年\n",
      "1988是闰年\n",
      "1992是闰年\n",
      "1996是闰年\n",
      "2000是闰年\n"
     ]
    }
   ],
   "source": [
    "'''\n",
    "Q029\n",
    "输出1000-2000之间的闰年\n",
    "【问题】输出1000-2000之间的闰年\n",
    "'''\n",
    "for year in range(1000,2001):\n",
    "    check_year = calendar.isleap(int(year))\n",
    "    if check_year:\n",
    "        print('{0}是闰年'.format(year))"
   ]
  },
  {
   "cell_type": "code",
   "execution_count": 6,
   "metadata": {},
   "outputs": [
    {
     "name": "stdout",
     "output_type": "stream",
     "text": [
      "输入三角形第一边长: 2\n",
      "输入三角形第二边长: 3\n",
      "输入三角形第三边长: 4\n",
      "三角形面积为 2.90\n"
     ]
    }
   ],
   "source": [
    "'''\n",
    "Q030\n",
    "输入三角形三个边求计算三角形的面积\n",
    "【问题】输入三角形三个边求计算三角形的面积\n",
    "【分析】\"三角形两边之和大于第三边，S=sqrt[p(p-a)(p-b)(p-c)]\"\n",
    "'''\n",
    "def get_triangle():\n",
    "    while True:\n",
    "        a = float(input('输入三角形第一边长: '))\n",
    "        b = float(input('输入三角形第二边长: '))\n",
    "        c = float(input('输入三角形第三边长: '))\n",
    "        d = [a,b,c]\n",
    "        d.sort()\n",
    "        if d[0] + d[1] > d[-1]:\n",
    "            return d\n",
    "        else:\n",
    "            print('不能组成三角形')\n",
    "\n",
    "if __name__ == '__main__':\n",
    "    d = get_triangle()\n",
    "    a = d[0]\n",
    "    b = d[1]\n",
    "    c = d[2]\n",
    "    # 计算半周长\n",
    "    s = (a + b + c) / 2\n",
    "    # 计算面积\n",
    "    area = (s*(s-a)*(s-b)*(s-c)) ** 0.5\n",
    "    print('三角形面积为 %0.2f' %area)\n",
    "    "
   ]
  },
  {
   "cell_type": "code",
   "execution_count": 10,
   "metadata": {},
   "outputs": [
    {
     "name": "stdout",
     "output_type": "stream",
     "text": [
      "输入圆的半径1\n",
      "圆的面积为 3.142000\n"
     ]
    }
   ],
   "source": [
    "'''\n",
    "Q031\n",
    "输入圆的半径求计算圆的面积\n",
    "【问题】输入圆的半径求计算圆的面积，pi = 3.142\n",
    "【分析】圆的面积公式: pi*r*r\n",
    "'''\n",
    "\n",
    "def get_r():\n",
    "    while True:\n",
    "        r = input(\"输入圆的半径\")\n",
    "        if r.isdigit():\n",
    "            return int(r)\n",
    "        else:\n",
    "            print('格式错误')\n",
    "\n",
    "def findArea(r):\n",
    "    pi = 3.142\n",
    "    return pi * (r*r)\n",
    "\n",
    "if __name__ == '__main__':\n",
    "    r = get_r()\n",
    "    print(\"圆的面积为 %.6f\" % findArea(r)) "
   ]
  },
  {
   "cell_type": "code",
   "execution_count": 14,
   "metadata": {},
   "outputs": [
    {
     "name": "stdout",
     "output_type": "stream",
     "text": [
      "\n",
      "1*1=1 \n",
      "1*2=2 2*2=4 \n",
      "1*3=3 2*3=6 3*3=9 "
     ]
    }
   ],
   "source": [
    "'''\n",
    "Q032\n",
    "3*3 乘法口诀表。\n",
    "【问题】请打印出 3*3 乘法口诀表。\n",
    "'''\n",
    "# coding:utf8\n",
    "\n",
    "if __name__ == '__main__':\n",
    "    for i in range(1, 4):\n",
    "        print()\n",
    "        for j in range(1, i+1):\n",
    "            print(\"%d*%d=%d\" % (j, i, i*j), end=' ') "
   ]
  },
  {
   "cell_type": "code",
   "execution_count": 15,
   "metadata": {},
   "outputs": [
    {
     "name": "stdout",
     "output_type": "stream",
     "text": [
      "\n",
      "1*1=1 \n",
      "1*2=2 2*2=4 \n",
      "1*3=3 2*3=6 3*3=9 \n",
      "1*4=4 2*4=8 3*4=12 4*4=16 \n",
      "1*5=5 2*5=10 3*5=15 4*5=20 5*5=25 \n",
      "1*6=6 2*6=12 3*6=18 4*6=24 5*6=30 6*6=36 \n",
      "1*7=7 2*7=14 3*7=21 4*7=28 5*7=35 6*7=42 7*7=49 \n",
      "1*8=8 2*8=16 3*8=24 4*8=32 5*8=40 6*8=48 7*8=56 8*8=64 \n",
      "1*9=9 2*9=18 3*9=27 4*9=36 5*9=45 6*9=54 7*9=63 8*9=72 9*9=81 "
     ]
    }
   ],
   "source": [
    "'''\n",
    "Q033\n",
    "9*9 乘法口诀表。\n",
    "【问题】请打印出 9*9乘法口诀表。\n",
    "'''\n",
    "# coding:utf8\n",
    "\n",
    "if __name__ == '__main__':\n",
    "    for i in range(1, 10):\n",
    "        print()\n",
    "        for j in range(1, i+1):\n",
    "            print(\"%d*%d=%d\" % (j, i, i*j), end=' ') "
   ]
  },
  {
   "cell_type": "code",
   "execution_count": 17,
   "metadata": {},
   "outputs": [
    {
     "name": "stdout",
     "output_type": "stream",
     "text": [
      "21\n",
      "261\n",
      "1581\n"
     ]
    }
   ],
   "source": [
    "'''\n",
    "Q034\n",
    "一个整数，它加上100后是一个完全平方数，再加上168又是一个完全平方数，请问该数是多少？\n",
    "'''\n",
    "\n",
    "from math import sqrt\n",
    "# sqrt() 求平方根，返回浮点数，is_integer() 判断浮点数是否为整数\n",
    "for i in range(1,10000):\n",
    "    if sqrt(i+100).is_integer() and sqrt(i+100+168).is_integer(): \n",
    "        print(i)"
   ]
  },
  {
   "cell_type": "code",
   "execution_count": 4,
   "metadata": {},
   "outputs": [
    {
     "name": "stdout",
     "output_type": "stream",
     "text": [
      "请输入年份2019\n",
      "请输入月份12\n",
      "请输入天31\n",
      "2019-12-31是2019年的第365天。\n"
     ]
    }
   ],
   "source": [
    "'''\n",
    "Q035\n",
    "输入某年某月某日，判断这一天是这一年的第几天？\n",
    "【问题】输入某年某月某日，判断这一天是这一年的第几天？\n",
    "【分析】程序分析：以3月5日为例，应该先把前两个月的加起来，然后再加上5天即本年的第几天，特殊情况，闰年且输入月份大于2时需考虑多加一天\n",
    "'''\n",
    "import datetime\n",
    "\n",
    "def get_year():\n",
    "    while True:\n",
    "        year = input(\"请输入年份\")\n",
    "        if year.isdigit():\n",
    "            return int(year)\n",
    "        else:\n",
    "            print('格式错误')\n",
    "\n",
    "def get_month():\n",
    "    while True:\n",
    "        mon = input(\"请输入月份\")\n",
    "        if mon.isdigit() and int(mon) in range(1,13):\n",
    "            return int(mon)\n",
    "        else:\n",
    "            print('格式错误')\n",
    "\n",
    "def get_day():\n",
    "    while True:\n",
    "        d = input(\"请输入天\")\n",
    "        if d.isdigit() and int(d) in range(1,32):\n",
    "            return int(d)\n",
    "        else:\n",
    "            print('格式错误')\n",
    "            \n",
    "# y = int(input('请输入4位数字的年份：'))  #获取年份\n",
    "# m = int(input('请输入月份：'))  #获取月份\n",
    "# d = int(input('请输入是哪一天：'))  #获取“日”\n",
    "\n",
    "\n",
    "if __name__ == '__main__':\n",
    "    y=get_year()\n",
    "    m=get_month()\n",
    "    d=get_day()\n",
    "\n",
    "    try:\n",
    "        targetDay = datetime.date(y, m, d)  #将输入的日期格式化成标准的日期\n",
    "    except:\n",
    "        print('年月日转换成时间时错误')\n",
    "    else:\n",
    "        dayCount = targetDay - datetime.date(targetDay.year - 1, 12, 31)  #减去上一年最后一天\n",
    "        print('%s是%s年的第%s天。'% (targetDay, y, dayCount.days))"
   ]
  },
  {
   "cell_type": "code",
   "execution_count": 6,
   "metadata": {},
   "outputs": [
    {
     "name": "stdout",
     "output_type": "stream",
     "text": [
      "输入一个数字: 11\n",
      "11 是奇数\n"
     ]
    }
   ],
   "source": [
    "'''\n",
    "\n",
    "Q036 \n",
    "【问题】判断输入数字为奇数偶数\n",
    "\n",
    "'''\n",
    "try:\n",
    "    num = int(input(\"输入一个数字: \"))\n",
    "    if (num % 2) == 0:\n",
    "       print(\"{0} 是偶数\".format(num))\n",
    "    else:\n",
    "       print(\"{0} 是奇数\".format(num))\n",
    "except:\n",
    "    print('异常')"
   ]
  },
  {
   "cell_type": "code",
   "execution_count": 12,
   "metadata": {},
   "outputs": [
    {
     "name": "stdout",
     "output_type": "stream",
     "text": [
      "    A  B  C\n",
      "0  12  7  3\n",
      "1   4  5  6\n",
      "2   7  8  9\n",
      "   A  B  C\n",
      "0  5  8  1\n",
      "1  6  7  3\n",
      "2  4  5  9\n",
      "    A   B   C\n",
      "0  17  15   4\n",
      "1  10  12   9\n",
      "2  11  13  18\n",
      "--------------------------------\n",
      "[17, 15, 4]\n",
      "[10, 12, 9]\n",
      "[11, 13, 18]\n"
     ]
    }
   ],
   "source": [
    "'''\n",
    "Q037\n",
    "【问题】两个 3 行 3 列的矩阵，实现其对应位置的数据相加，并返回一个新矩阵：\n",
    "X = [[12,7,3],\n",
    "    [4 ,5,6],\n",
    "    [7 ,8,9]]\n",
    "Y = [[5,8,1],\n",
    "    [6,7,3],\n",
    "    [4,5,9]]\n",
    "【分析】创建一个新的 3 行 3 列的矩阵，使用 for 迭代并取出 X 和 Y 矩阵中对应位置\n",
    "的值，相加后放到新矩阵的对应位置中。\n",
    "\n",
    "'''\n",
    "import pandas as pd\n",
    "df = pd.DataFrame([[12,7,3],\n",
    "    [4 ,5,6],\n",
    "    [7 ,8,9]],columns=['A', 'B', 'C'])\n",
    "print(df)\n",
    "\n",
    "df1 = pd.DataFrame([[5,8,1],\n",
    "    [6,7,3],\n",
    "    [4,5,9]],columns=['A', 'B', 'C'])\n",
    "print(df1)\n",
    "# 利用DataFrame进行相加\n",
    "print(df + df1)\n",
    "\n",
    "print('--------------------------------')\n",
    "\n",
    "X = [[12,7,3],\n",
    "    [4 ,5,6],\n",
    "    [7 ,8,9]]\n",
    " \n",
    "Y = [[5,8,1],\n",
    "    [6,7,3],\n",
    "    [4,5,9]]\n",
    " \n",
    "result = [[0,0,0],\n",
    "         [0,0,0],\n",
    "         [0,0,0]]\n",
    " \n",
    "# 迭代输出行\n",
    "for i in range(len(X)):\n",
    "   # 迭代输出列\n",
    "   for j in range(len(X[0])):\n",
    "        result[i][j] = X[i][j] + Y[i][j]\n",
    "for r in result:\n",
    "    print(r)"
   ]
  },
  {
   "cell_type": "code",
   "execution_count": 3,
   "metadata": {},
   "outputs": [
    {
     "name": "stdout",
     "output_type": "stream",
     "text": [
      "请输入一行字符：123 这个 abc !!!\n",
      "英文字符： 3\n",
      "中文字符： 2\n",
      "空格： 3\n",
      "数字： 3\n",
      "其他： 3\n"
     ]
    }
   ],
   "source": [
    "'''\n",
    "Q038\n",
    "【问题】输入一行字符，如'are you ok ! 黎明。'。分别统计出其中英文字母、空格、数字和其它字符的个数。\n",
    "'''\n",
    "import string\n",
    "# string.ascii_letters 大小写字母常数\n",
    "# print(string.ascii_letters) # abcdefghijklmnopqrstuvwxyzABCDEFGHIJKLMNOPQRSTUVWXYZ\n",
    "\n",
    "words = input('请输入一行字符：')\n",
    "en_word = 0\n",
    "ch_word = 0\n",
    "sp_word = 0\n",
    "num_word = 0\n",
    "qita_word = 0\n",
    "\n",
    "for i in words:\n",
    "    if i in string.ascii_letters:\n",
    "        en_word += 1\n",
    "    elif i.isalpha():\n",
    "        ch_word += 1\n",
    "    elif i.isspace():\n",
    "        sp_word += 1        \n",
    "    elif i.isdigit():\n",
    "        num_word += 1\n",
    "    else:\n",
    "        qita_word += 1\n",
    "        \n",
    "print('英文字符：',en_word)\n",
    "print('中文字符：',ch_word)\n",
    "print('空格：',sp_word)\n",
    "print('数字：',num_word)\n",
    "print('其他：',qita_word)"
   ]
  },
  {
   "cell_type": "code",
   "execution_count": 16,
   "metadata": {},
   "outputs": [
    {
     "name": "stdout",
     "output_type": "stream",
     "text": [
      "False\n",
      "False\n",
      "True\n"
     ]
    }
   ],
   "source": [
    "import sys\n",
    "\n",
    "def check_contain_chinese(check_str):\n",
    "    for ch in check_str:\n",
    "        if u'\\u4e00' <= ch <= u'\\u9fff':\n",
    "            return True\n",
    "        return False\n",
    "\n",
    "if __name__ == \"__main__\":\n",
    "    print(check_contain_chinese('i love yiu '))\n",
    "    print(check_contain_chinese('i love you') )\n",
    "    print(check_contain_chinese('中国') )"
   ]
  },
  {
   "cell_type": "code",
   "execution_count": 17,
   "metadata": {},
   "outputs": [
    {
     "name": "stdout",
     "output_type": "stream",
     "text": [
      "请输入字符: 124\n",
      "您输入的是数字:124\n"
     ]
    }
   ],
   "source": [
    "'''\n",
    "Q039\n",
    "【问题】根据输入的字符串判断是否为数字\n",
    "'''\n",
    "\n",
    "\n",
    "if __name__ == \"__main__\":\n",
    "    num = input('请输入字符: ')\n",
    "\n",
    "    if num.isdigit():\n",
    "        print('您输入的是数字:%s'%num)\n",
    "    else:\n",
    "        print('您输入的不是数字')"
   ]
  },
  {
   "cell_type": "code",
   "execution_count": 24,
   "metadata": {},
   "outputs": [
    {
     "name": "stdout",
     "output_type": "stream",
     "text": [
      "原始字符串为 : Crossin 的编程教室\n",
      "字符串移除后为 : Crossin的编程教室\n",
      "Crossin\n",
      "的编程教室\n",
      "字符串移除后为 :  Crossin的编程教室\n"
     ]
    }
   ],
   "source": [
    "'''\n",
    "Q040\n",
    "【问题】Python 移除字符串中的指定位置字符,\"Crossin 的编程教室\"  中第八位空白符\n",
    "'''\n",
    "if __name__ == \"__main__\":\n",
    "    test_str = \"Crossin 的编程教室\"\n",
    "\n",
    "    # 输出原始字符串\n",
    "    print (\"原始字符串为 : \" + test_str)\n",
    "\n",
    "    # 移除第8个字符 空白符\n",
    "    new_str = \"\"\n",
    "    # 跳过第八位  \n",
    "    for i in range(0, len(test_str)):\n",
    "        if i != 7:\n",
    "            new_str = new_str + test_str[i]\n",
    "\n",
    "    print (\"字符串移除后为 : \" + new_str)\n",
    "\n",
    "    # 切片的方法\n",
    "    print(test_str[0:7])\n",
    "    print(test_str[8:])\n",
    "    print(\"字符串移除后为 : \", test_str[0:7]+test_str[8:])\n",
    "\n"
   ]
  },
  {
   "cell_type": "code",
   "execution_count": 27,
   "metadata": {},
   "outputs": [
    {
     "name": "stdout",
     "output_type": "stream",
     "text": [
      "你*，我*，大家*才是真的*！\n"
     ]
    }
   ],
   "source": [
    "'''\n",
    "Q041\n",
    "【问题】使用 * 替换字符串‘你好，我好，大家好才是真的好！’中的‘好’。\n",
    "\n",
    "replace()方法语法：\n",
    "str.replace(old, new[, max])\n",
    "参数\n",
    "old -- 将被替换的子字符串。\n",
    "new -- 新字符串，用于替换old子字符串。\n",
    "max -- 可选字符串, 替换不超过 max 次\n",
    "\n",
    "'''\n",
    "\n",
    "if __name__ == \"__main__\":\n",
    "    s = \"你好，我好，大家好才是真的好！\"\n",
    "    new_s = s.replace('好','*')\n",
    "    print(new_s)"
   ]
  },
  {
   "cell_type": "code",
   "execution_count": 31,
   "metadata": {},
   "outputs": [
    {
     "name": "stdout",
     "output_type": "stream",
     "text": [
      "qDYlSpTd\n",
      "zifoQaJd\n",
      "SxkyihlA\n",
      "JjLDtSqZ\n",
      "XqUgNcSP\n",
      "WGLOfIdE\n",
      "dgfsqzVc\n",
      "BpNTmflq\n",
      "HQXrdNua\n",
      "bQZeVzBx\n",
      "lIduVpyC\n",
      "mcfLQAvW\n",
      "ocatUnmT\n",
      "WlXIObzY\n",
      "MQPYncew\n",
      "vXgypVJq\n",
      "eNXjdIuo\n",
      "aHoJysiB\n",
      "PqkyoDTB\n",
      "rcOYxAwR\n",
      "YqjKiuOX\n",
      "BdrmsEAv\n",
      "pbvMsXWQ\n",
      "TftjXcOZ\n",
      "LTVehbpx\n",
      "KPgcyOMV\n",
      "NaRoMczG\n",
      "joRrEUCt\n",
      "PydbUzHZ\n",
      "iuxTKNyG\n",
      "HDOLIEQv\n",
      "KmYFXohe\n",
      "VfBMakom\n",
      "PYdoIMyG\n",
      "CaSJfUeb\n",
      "xRsSULuj\n",
      "SZsGipWw\n",
      "jfRxICzP\n",
      "bPstyAqe\n",
      "RtQmTrsv\n",
      "TPyIplgO\n",
      "cSpgqmBa\n",
      "JfSUMnaF\n",
      "uHRywhJT\n",
      "KHDqNdBv\n",
      "CBSvPZow\n",
      "SXtdZlIN\n",
      "NRhjnmvl\n",
      "ntjoDVOK\n",
      "TWymOPfv\n",
      "yeXWKiGu\n",
      "wLvSOTXo\n",
      "MWranosC\n",
      "TndHBgWq\n",
      "BuoWSNja\n",
      "klsAyXFO\n",
      "aJBheVgm\n",
      "NwiODGro\n",
      "LjuZhUtX\n",
      "MTmhLokY\n",
      "XQSxMKGe\n",
      "BSrGtYen\n",
      "ADHnuaxk\n",
      "qtONGIUF\n",
      "FPWgYlnx\n",
      "doBENUfx\n",
      "FrUoTXOZ\n",
      "Locxrulg\n",
      "dPbFosJQ\n",
      "KMiBXVFR\n",
      "FhUxenVO\n",
      "GKWMDNiY\n",
      "PgRoclVt\n",
      "cwJdizqP\n",
      "lBXbsPAm\n",
      "kCWNBQKY\n",
      "qAZarRIn\n",
      "vXtQoASP\n",
      "LmdMCSiP\n",
      "BxzLOCVF\n",
      "fOvpwmMd\n",
      "lyiTkSJj\n",
      "MncCZsbe\n",
      "XYOSWhIN\n",
      "oIKiCfQl\n",
      "JGhAsfVv\n",
      "fOvEVxPT\n",
      "xfmbiNkE\n",
      "cYwuoGpm\n",
      "SDHYyGBv\n",
      "TpdSjksG\n",
      "cKaoFgHE\n",
      "tPWFKmkn\n",
      "PJfNsSuw\n",
      "rBQLeKXo\n",
      "jWshiErO\n",
      "UjCtsXLr\n",
      "VKSerOzc\n",
      "BQTwyOgD\n",
      "RVrqbmOF\n",
      "eCwqVvgH\n",
      "GFPfMJHv\n",
      "RjZpJmXz\n",
      "aMiDlwTX\n",
      "VBqEKxct\n",
      "JXDSrvMi\n",
      "RsHISLZF\n",
      "wGvLRbng\n",
      "krsQbxpv\n",
      "RAzuZidY\n",
      "iWejvKPC\n",
      "UBMVGijH\n",
      "jmhlFLND\n",
      "DRwxBuMl\n",
      "WaGfArke\n",
      "STJMtecK\n",
      "MicbmNvU\n",
      "SXjuTcJO\n",
      "xNSZcduF\n",
      "XPzFwZNE\n",
      "YFofGuHP\n",
      "EBmKsgQN\n",
      "UBeWJxSv\n",
      "tkwMmUQr\n",
      "GMXCWgxw\n",
      "XFKLbxwq\n",
      "MpYcHLFJ\n",
      "XkcBUsbC\n",
      "UJCplqYA\n",
      "INWJhMDB\n",
      "klhbnagA\n",
      "rbAEdeYW\n",
      "wBiFYOnN\n",
      "MBYkAtqa\n",
      "oNldwTEL\n",
      "lFnIZmXQ\n",
      "DdcRMmTQ\n",
      "uzIHAlom\n",
      "ZfNMVgpw\n",
      "zapINenT\n",
      "TRUdKjSV\n",
      "nTkAbMLY\n",
      "fstNaJqM\n",
      "xjOrKQyU\n",
      "dDOIBmGo\n",
      "ubsMIqZf\n",
      "OPDtVdRI\n",
      "jlidnNVr\n",
      "aMNWBhsi\n",
      "vLratiGm\n",
      "CmQGvKyn\n",
      "yUjoMIRv\n",
      "FRiQbBTo\n",
      "DMYFgmsy\n",
      "EgVnLZSO\n",
      "dmlRqVeN\n",
      "fbpKSsNc\n",
      "VqOoZglv\n",
      "fjOXAzxb\n",
      "vBLmtDUY\n",
      "GLtVWBIb\n",
      "ArIbwpqj\n",
      "QmnXCjHb\n",
      "SjTCryWl\n",
      "JAIpQkiZ\n",
      "pFMaPxZo\n",
      "QtewXrnP\n",
      "ibRtYqFn\n",
      "MHTVALPD\n",
      "NlJYdLjk\n",
      "JiPbcFYa\n",
      "wcEXBPmY\n",
      "iUqoMbHQ\n",
      "TIURHajm\n",
      "qGAnkQIv\n",
      "jLOZYcTo\n",
      "sHVJZUpN\n",
      "jlDTbgOs\n",
      "XQhlFyHM\n",
      "quoAXasf\n",
      "yYAmJSUW\n",
      "CjnDzqKy\n",
      "LwuhAFYT\n",
      "EADbvmtI\n",
      "NJUzhCGr\n",
      "aZKNxtlQ\n",
      "xkIOvwbQ\n",
      "nVrDIRGK\n",
      "DnQlUbZA\n",
      "NbkyaTOW\n",
      "aVYOWUNn\n",
      "NhVErRKy\n",
      "okZHrQSD\n",
      "OtIPZAHS\n",
      "zxrDJCPO\n",
      "wODXlgfV\n",
      "KJDiELMY\n",
      "oaHdQJBX\n",
      "JQGRnDkx\n",
      "xpQGYfgr\n",
      "----------校验是否重复-----------------\n",
      "no duplicates!!\n"
     ]
    }
   ],
   "source": [
    "'''\n",
    "Q042\n",
    "【问题】生成优秀券号码很多付费应用的开发者，\n",
    "会设计一些优惠券来吸引用户来使用新开发的应用，以达到一定的广告效应。\n",
    "现在，请你帮他们设计并生成200个优惠券号码。\n",
    "优惠码的字符由26个英文字符（大小写）组成，每个优惠码有8位\n",
    "'''\n",
    "import random\n",
    "import string\n",
    "\n",
    "\n",
    "def checkDuplicate(num_list):\n",
    "    '''\n",
    "    直接使用set方法\n",
    "    '''\n",
    "    if len(num_list)!=len(set(num_list)):\n",
    "        print('have duplicates!!!')\n",
    "    else:\n",
    "        print('no duplicates!!')\n",
    "\n",
    "\n",
    "if __name__ == '__main__':\n",
    "    # 循环200次，生成200个优惠券号码\n",
    "    ret_list =[]\n",
    "    for i in range(0, 200):\n",
    "        # 使用默认的52个字符列表（26个字母，大小写）并转换成list\n",
    "        a = list(string.ascii_letters)\n",
    "        # 使用shuffle函数把list乱序\n",
    "        random.shuffle(a)\n",
    "        # 取乱序后的list的前8个字符连接成字符串，打印到屏幕\n",
    "        temp= ''.join(a[:8])\n",
    "        print(temp)\n",
    "        ret_list.append(temp)\n",
    "    \n",
    "    print('----------校验是否重复-----------------')\n",
    "    checkDuplicate(ret_list)"
   ]
  },
  {
   "cell_type": "code",
   "execution_count": null,
   "metadata": {},
   "outputs": [],
   "source": []
  }
 ],
 "metadata": {
  "kernelspec": {
   "display_name": "Python 3",
   "language": "python",
   "name": "python3"
  },
  "language_info": {
   "codemirror_mode": {
    "name": "ipython",
    "version": 3
   },
   "file_extension": ".py",
   "mimetype": "text/x-python",
   "name": "python",
   "nbconvert_exporter": "python",
   "pygments_lexer": "ipython3",
   "version": "3.6.4"
  }
 },
 "nbformat": 4,
 "nbformat_minor": 2
}
