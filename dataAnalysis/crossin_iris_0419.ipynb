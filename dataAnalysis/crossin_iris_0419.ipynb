{
 "cells": [
  {
   "cell_type": "code",
   "execution_count": 17,
   "metadata": {},
   "outputs": [
    {
     "data": {
      "text/plain": [
       "array([5.1, 4.9, 4.7, 4.6, 5. ])"
      ]
     },
     "execution_count": 17,
     "metadata": {},
     "output_type": "execute_result"
    }
   ],
   "source": [
    "'''\n",
    "https://crossincode.com/vip/homework/210/\n",
    "\n",
    "任务1：利用 numpy 读取 csv 文件数据，命名为 iris，并以 ndarry 形式展示出来（阅读参考文章①）\n",
    "\n",
    "https://blog.csdn.net/u012413551/article/details/87890989\n",
    "-- str 参数，字符串处理 (默认情况下，数据被认为是float类型)\n",
    "-- skiprows = 1  跳过首行 \n",
    "-- usecols参数介绍一个元组，元组里面用列索引来指定输入特定的列。\n",
    "-- -- usecols = (0,2) 第一、第二、第三列\n",
    "-- -- 指定顺序：\n",
    "\n",
    "'''\n",
    "import numpy as np\n",
    "import csv\n",
    "p = r'.\\iris.csv'\n",
    "with open(p,encoding = 'utf-8') as f:\n",
    "#     iris = np.loadtxt(f,str,delimiter = \",\")\n",
    "    iris = np.loadtxt(f,delimiter = \",\")\n",
    "\n",
    "iris[:5] # 前5行\n",
    "\n",
    "# data[:5,1] # 取前5行的第2列\n",
    "# print(iris[4,2])  #取具体的第5行第3列  IndexError: too many indices for array"
   ]
  },
  {
   "cell_type": "code",
   "execution_count": 25,
   "metadata": {},
   "outputs": [
    {
     "name": "stdout",
     "output_type": "stream",
     "text": [
      "原数据中最大值位置： 131\n",
      "原数据中最小值位置： 13\n"
     ]
    }
   ],
   "source": [
    "'''\n",
    "任务2  找出原数据中最小值和最大值出现的位置（任务提示：numpy 中 argmax 和 argmin 函数可以定位到最大值和最小值的索引位置。阅读参考文章②）\n",
    "https://blog.csdn.net/lanchunhui/article/details/50044417\n",
    "'''\n",
    "# print(iris)\n",
    "# iris_list = iris.tolist() ndarray 转list\n",
    "# print(len(iris_list))\n",
    "max_index = np.argmax(iris)\n",
    "print('原数据中最大值位置：',max_index)\n",
    "min_index = np.argmin(iris)\n",
    "print('原数据中最小值位置：',min_index)\n"
   ]
  },
  {
   "cell_type": "code",
   "execution_count": 24,
   "metadata": {},
   "outputs": [
    {
     "name": "stdout",
     "output_type": "stream",
     "text": [
      "原数据中最大值： 7.9\n",
      "原数据中最小值： 4.3\n"
     ]
    }
   ],
   "source": [
    "'''\n",
    "任务3：利用 numpy 找出花萼最小值与最大值（阅读参考文章②）\n",
    "'''\n",
    "print('原数据中最大值：',max(iris))\n",
    "min_index = np.argmin(iris)\n",
    "print('原数据中最小值：',min(iris))\n"
   ]
  },
  {
   "cell_type": "code",
   "execution_count": 26,
   "metadata": {},
   "outputs": [
    {
     "data": {
      "text/plain": [
       "array([4.3, 4.4, 4.4, 4.4, 4.5, 4.6, 4.6, 4.6, 4.6, 4.7, 4.7, 4.8, 4.8,\n",
       "       4.8, 4.8, 4.8, 4.9, 4.9, 4.9, 4.9, 4.9, 4.9, 5. , 5. , 5. , 5. ,\n",
       "       5. , 5. , 5. , 5. , 5. , 5. , 5.1, 5.1, 5.1, 5.1, 5.1, 5.1, 5.1,\n",
       "       5.1, 5.1, 5.2, 5.2, 5.2, 5.2, 5.3, 5.4, 5.4, 5.4, 5.4, 5.4, 5.4,\n",
       "       5.5, 5.5, 5.5, 5.5, 5.5, 5.5, 5.5, 5.6, 5.6, 5.6, 5.6, 5.6, 5.6,\n",
       "       5.7, 5.7, 5.7, 5.7, 5.7, 5.7, 5.7, 5.7, 5.8, 5.8, 5.8, 5.8, 5.8,\n",
       "       5.8, 5.8, 5.9, 5.9, 5.9, 6. , 6. , 6. , 6. , 6. , 6. , 6.1, 6.1,\n",
       "       6.1, 6.1, 6.1, 6.1, 6.2, 6.2, 6.2, 6.2, 6.3, 6.3, 6.3, 6.3, 6.3,\n",
       "       6.3, 6.3, 6.3, 6.3, 6.4, 6.4, 6.4, 6.4, 6.4, 6.4, 6.4, 6.5, 6.5,\n",
       "       6.5, 6.5, 6.5, 6.6, 6.6, 6.7, 6.7, 6.7, 6.7, 6.7, 6.7, 6.7, 6.7,\n",
       "       6.8, 6.8, 6.8, 6.9, 6.9, 6.9, 6.9, 7. , 7.1, 7.2, 7.2, 7.2, 7.3,\n",
       "       7.4, 7.6, 7.7, 7.7, 7.7, 7.7, 7.9])"
      ]
     },
     "execution_count": 26,
     "metadata": {},
     "output_type": "execute_result"
    }
   ],
   "source": [
    "'''\n",
    "任务4：将 iris 原数据进行从小到大排序，并以 ndarray 形式展示出来\n",
    "（任务提示：排序函数为 sort。阅读参考文章③）\n",
    "https://www.jb51.net/article/52730.htm\n",
    "'''\n",
    "iris.sort()\n",
    "iris\n"
   ]
  },
  {
   "cell_type": "code",
   "execution_count": 27,
   "metadata": {},
   "outputs": [
    {
     "name": "stdout",
     "output_type": "stream",
     "text": [
      "原数据中最大值位置： 149\n"
     ]
    }
   ],
   "source": [
    "max_index = np.argmax(iris)\n",
    "print('原数据中最大值位置：',max_index)"
   ]
  },
  {
   "cell_type": "code",
   "execution_count": 34,
   "metadata": {},
   "outputs": [
    {
     "name": "stdout",
     "output_type": "stream",
     "text": [
      "去重后的： [4.3 4.4 4.5 4.6 4.7 4.8 4.9 5.  5.1 5.2 5.3 5.4 5.5 5.6 5.7 5.8 5.9 6.\n",
      " 6.1 6.2 6.3 6.4 6.5 6.6 6.7 6.8 6.9 7.  7.1 7.2 7.3 7.4 7.6 7.7 7.9]\n",
      "原始数据： [4.3 4.4 4.4 4.4 4.5 4.6 4.6 4.6 4.6 4.7 4.7 4.8 4.8 4.8 4.8 4.8 4.9 4.9\n",
      " 4.9 4.9 4.9 4.9 5.  5.  5.  5.  5.  5.  5.  5.  5.  5.  5.1 5.1 5.1 5.1\n",
      " 5.1 5.1 5.1 5.1 5.1 5.2 5.2 5.2 5.2 5.3 5.4 5.4 5.4 5.4 5.4 5.4 5.5 5.5\n",
      " 5.5 5.5 5.5 5.5 5.5 5.6 5.6 5.6 5.6 5.6 5.6 5.7 5.7 5.7 5.7 5.7 5.7 5.7\n",
      " 5.7 5.8 5.8 5.8 5.8 5.8 5.8 5.8 5.9 5.9 5.9 6.  6.  6.  6.  6.  6.  6.1\n",
      " 6.1 6.1 6.1 6.1 6.1 6.2 6.2 6.2 6.2 6.3 6.3 6.3 6.3 6.3 6.3 6.3 6.3 6.3\n",
      " 6.4 6.4 6.4 6.4 6.4 6.4 6.4 6.5 6.5 6.5 6.5 6.5 6.6 6.6 6.7 6.7 6.7 6.7\n",
      " 6.7 6.7 6.7 6.7 6.8 6.8 6.8 6.9 6.9 6.9 6.9 7.  7.1 7.2 7.2 7.2 7.3 7.4\n",
      " 7.6 7.7 7.7 7.7 7.7 7.9]\n",
      "-------------\n",
      "去重后的： [4.3 4.4 4.5 4.6 4.7 4.8 4.9 5.  5.1 5.2 5.3 5.4 5.5 5.6 5.7 5.8 5.9 6.\n",
      " 6.1 6.2 6.3 6.4 6.5 6.6 6.7 6.8 6.9 7.  7.1 7.2 7.3 7.4 7.6 7.7 7.9]\n",
      "在旧列表中的位置： [  0   1   4   5   9  11  16  22  32  41  45  46  52  59  65  73  80  83\n",
      "  89  95  99 108 115 120 122 130 133 137 138 139 142 143 144 145 149]\n",
      "在新列表中的位置： [ 0  1  1  1  2  3  3  3  3  4  4  5  5  5  5  5  6  6  6  6  6  6  7  7\n",
      "  7  7  7  7  7  7  7  7  8  8  8  8  8  8  8  8  8  9  9  9  9 10 11 11\n",
      " 11 11 11 11 12 12 12 12 12 12 12 13 13 13 13 13 13 14 14 14 14 14 14 14\n",
      " 14 15 15 15 15 15 15 15 16 16 16 17 17 17 17 17 17 18 18 18 18 18 18 19\n",
      " 19 19 19 20 20 20 20 20 20 20 20 20 21 21 21 21 21 21 21 22 22 22 22 22\n",
      " 23 23 24 24 24 24 24 24 24 24 25 25 25 26 26 26 26 27 28 29 29 29 30 31\n",
      " 32 33 33 33 33 34]\n"
     ]
    }
   ],
   "source": [
    "'''\n",
    "任务5 去除该组数据中的重复值（任务提示：去重函数为 np.unique()。阅读参考文章④）\n",
    "https://blog.csdn.net/yangyuwen_yang/article/details/79193770\n",
    "'''\n",
    "# 对于一维数组或者列表，unique函数去除其中重复的元素，并按元素由大到小返回一个新的无元素重复的元组\n",
    "\n",
    "u_iris = np.unique(iris)\n",
    "print('去重后的：', u_iris)\n",
    "print('原始数据：', iris)\n",
    "\n",
    "# c,s=np.unique(b,return_index=True) \n",
    "# return_index=True表示返回新列表元素在旧列表中的位置，并以列表形式储存在s中。\n",
    "\n",
    "# c,s = np.unique(iris,return_index=True )\n",
    "# print(c)\n",
    "# print(s)\n",
    "\n",
    "# a, s,p = np.unique(A, return_index=True, return_inverse=True)\n",
    "# return_inverse=True 表示返回旧列表元素在新列表中的位置，并以列表形式储存在p中\n",
    "print('-------------')\n",
    "c,s, p = np.unique(iris,return_index=True,return_inverse=True )\n",
    "# print('去重后的：',c)\n",
    "print('在旧列表中的位置：',s)\n",
    "print('在新列表中的位置：',p)"
   ]
  },
  {
   "cell_type": "code",
   "execution_count": 37,
   "metadata": {},
   "outputs": [
    {
     "name": "stdout",
     "output_type": "stream",
     "text": [
      "5.843333333333334\n",
      "5.843333333333334\n"
     ]
    }
   ],
   "source": [
    "'''\n",
    "任务6：请利用 numpy 计算出该组花萼的平均长度（任务提示：平均函数为 np.mean()。阅读参考文章⑤）\n",
    "https://blog.csdn.net/andybegin/article/details/84033216\n",
    "\n",
    "'''\n",
    "\n",
    "# 计算整个数据的平均值\n",
    "print(iris.mean()) # 3\n",
    "\n",
    "# 计算每一列的平均值\n",
    "print(iris.mean(axis=0)) \n",
    "\n",
    "# 计算每一行的平均值\n",
    "# print(iris.mean(axis=1))  # IndexError: tuple index out of range\n"
   ]
  },
  {
   "cell_type": "code",
   "execution_count": 38,
   "metadata": {},
   "outputs": [
    {
     "name": "stdout",
     "output_type": "stream",
     "text": [
      "5.843333333333334\n",
      "0.6811222222222223\n",
      "0.8253012917851409\n"
     ]
    }
   ],
   "source": [
    "'''\n",
    "任务7：用numpy计算出该组数据的标准差和方差，并得出相关结论（任务提示：标准差可以衡量数据的波动性。阅读参考文章⑥）\n",
    "https://blog.csdn.net/Dawn510/article/details/89336650\n",
    "\n",
    "\n",
    "'''\n",
    "\n",
    "# 均值\n",
    "print(np.mean(iris))\n",
    " \n",
    "# 方差\n",
    "print(np.var(iris))\n",
    " \n",
    "# 标准差\n",
    "print(np.std(iris))"
   ]
  },
  {
   "cell_type": "code",
   "execution_count": null,
   "metadata": {},
   "outputs": [],
   "source": [
    "结论：标准差越小，数据的波动越小。"
   ]
  },
  {
   "cell_type": "code",
   "execution_count": 42,
   "metadata": {},
   "outputs": [
    {
     "name": "stdout",
     "output_type": "stream",
     "text": [
      "所有花瓣累积总和: 876.5\n"
     ]
    }
   ],
   "source": [
    "'''\n",
    "任务8：求出所有花瓣累积总和（阅读参考文章⑦）\n",
    "https://blog.csdn.net/wangxiao7474/article/details/78867390\n",
    "sum() 没有axis参数表示全部数据相加\n",
    "axis=0，表示按列相加\n",
    "axis=1，表示按行相加\n",
    "\n",
    "'''\n",
    "\n",
    "print('所有花瓣累积总和:', np.sum(iris))\n",
    "\n"
   ]
  },
  {
   "cell_type": "code",
   "execution_count": 43,
   "metadata": {},
   "outputs": [
    {
     "data": {
      "text/plain": [
       "array([  4.3,   8.7,  13.1,  17.5,  22. ,  26.6,  31.2,  35.8,  40.4,\n",
       "        45.1,  49.8,  54.6,  59.4,  64.2,  69. ,  73.8,  78.7,  83.6,\n",
       "        88.5,  93.4,  98.3, 103.2, 108.2, 113.2, 118.2, 123.2, 128.2,\n",
       "       133.2, 138.2, 143.2, 148.2, 153.2, 158.3, 163.4, 168.5, 173.6,\n",
       "       178.7, 183.8, 188.9, 194. , 199.1, 204.3, 209.5, 214.7, 219.9,\n",
       "       225.2, 230.6, 236. , 241.4, 246.8, 252.2, 257.6, 263.1, 268.6,\n",
       "       274.1, 279.6, 285.1, 290.6, 296.1, 301.7, 307.3, 312.9, 318.5,\n",
       "       324.1, 329.7, 335.4, 341.1, 346.8, 352.5, 358.2, 363.9, 369.6,\n",
       "       375.3, 381.1, 386.9, 392.7, 398.5, 404.3, 410.1, 415.9, 421.8,\n",
       "       427.7, 433.6, 439.6, 445.6, 451.6, 457.6, 463.6, 469.6, 475.7,\n",
       "       481.8, 487.9, 494. , 500.1, 506.2, 512.4, 518.6, 524.8, 531. ,\n",
       "       537.3, 543.6, 549.9, 556.2, 562.5, 568.8, 575.1, 581.4, 587.7,\n",
       "       594.1, 600.5, 606.9, 613.3, 619.7, 626.1, 632.5, 639. , 645.5,\n",
       "       652. , 658.5, 665. , 671.6, 678.2, 684.9, 691.6, 698.3, 705. ,\n",
       "       711.7, 718.4, 725.1, 731.8, 738.6, 745.4, 752.2, 759.1, 766. ,\n",
       "       772.9, 779.8, 786.8, 793.9, 801.1, 808.3, 815.5, 822.8, 830.2,\n",
       "       837.8, 845.5, 853.2, 860.9, 868.6, 876.5])"
      ]
     },
     "execution_count": 43,
     "metadata": {},
     "output_type": "execute_result"
    }
   ],
   "source": [
    "'''\n",
    "任务9：对已排序的 iris 数据进行累积求和运算\n",
    "（任务提示：累积求和与求和有区别，累积求和是前几个数相加成新的元素从而组成新的数组。阅读参考文章⑧⑨）\n",
    "\n",
    "https://blog.csdn.net/weixin_43486780/article/details/104692759\n",
    "\n",
    "语法：numpy.cumsum(a, axis=None, dtype=None, out=None)\n",
    "numpy中的cumsum函数按指定轴累加求和，返回中间结果组成的数组，在求累积分布时用到，这里是一维所以并没有指定轴\n",
    "\n",
    "'''\n",
    "\n",
    "cumsum_i = np.cumsum(iris, axis = 0)\n",
    "\n",
    "cumsum_i"
   ]
  },
  {
   "cell_type": "code",
   "execution_count": 47,
   "metadata": {},
   "outputs": [
    {
     "name": "stdout",
     "output_type": "stream",
     "text": [
      "花萼长度比平均值高的有： 70\n"
     ]
    }
   ],
   "source": [
    "'''\n",
    "任务10：统计花萼长度比平均值 5.84 高的有多少（任务提示：例如 (arr>1).sum() 可统计大于1的个数）\n",
    "\n",
    "'''\n",
    "\n",
    "print('花萼长度比平均值高的有：',(iris > np.mean(iris)).sum())"
   ]
  },
  {
   "cell_type": "code",
   "execution_count": null,
   "metadata": {},
   "outputs": [],
   "source": []
  }
 ],
 "metadata": {
  "kernelspec": {
   "display_name": "Python 3",
   "language": "python",
   "name": "python3"
  },
  "language_info": {
   "codemirror_mode": {
    "name": "ipython",
    "version": 3
   },
   "file_extension": ".py",
   "mimetype": "text/x-python",
   "name": "python",
   "nbconvert_exporter": "python",
   "pygments_lexer": "ipython3",
   "version": "3.6.4"
  }
 },
 "nbformat": 4,
 "nbformat_minor": 2
}
